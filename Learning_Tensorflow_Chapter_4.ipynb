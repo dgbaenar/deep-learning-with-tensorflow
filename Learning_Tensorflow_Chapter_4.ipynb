{
  "nbformat": 4,
  "nbformat_minor": 0,
  "metadata": {
    "colab": {
      "name": "Learning Tensorflow Chapter 4.ipynb",
      "provenance": [],
      "collapsed_sections": [],
      "authorship_tag": "ABX9TyM1MMJOA7JuUyrHQucdjW3r",
      "include_colab_link": true
    },
    "kernelspec": {
      "name": "python3",
      "display_name": "Python 3"
    },
    "language_info": {
      "name": "python"
    }
  },
  "cells": [
    {
      "cell_type": "markdown",
      "metadata": {
        "id": "view-in-github",
        "colab_type": "text"
      },
      "source": [
        "<a href=\"https://colab.research.google.com/github/dgbaenar/deep-learning-with-tensorflow/blob/main/Learning_Tensorflow_Chapter_4.ipynb\" target=\"_parent\"><img src=\"https://colab.research.google.com/assets/colab-badge.svg\" alt=\"Open In Colab\"/></a>"
      ]
    },
    {
      "cell_type": "markdown",
      "source": [
        "# 4.1. Language model - Predicting movie likes or dislikes"
      ],
      "metadata": {
        "id": "hCWwItrUUEL9"
      }
    },
    {
      "cell_type": "code",
      "execution_count": null,
      "metadata": {
        "colab": {
          "base_uri": "https://localhost:8080/"
        },
        "id": "VwIbM96U_ltD",
        "outputId": "14151da5-b272-43aa-8632-26ac187c7cb7"
      },
      "outputs": [
        {
          "output_type": "stream",
          "name": "stdout",
          "text": [
            "Downloading data from https://storage.googleapis.com/tensorflow/tf-keras-datasets/imdb.npz\n",
            "17465344/17464789 [==============================] - 0s 0us/step\n",
            "17473536/17464789 [==============================] - 0s 0us/step\n"
          ]
        }
      ],
      "source": [
        "from tensorflow.keras.datasets import imdb\n",
        "(train_data, train_labels), (test_data, test_labels) = imdb.load_data(\n",
        "    num_words=10000)"
      ]
    },
    {
      "cell_type": "markdown",
      "source": [
        "The variables train_data and test_data are lists of reviews; each review is a list of word indices (encoding a sequence of words). train_labels and test_labels are lists of 0s and 1s, where 0 stands for negative and 1 stands for positive"
      ],
      "metadata": {
        "id": "7537TodZD6Sj"
      }
    },
    {
      "cell_type": "code",
      "source": [
        "train_data"
      ],
      "metadata": {
        "colab": {
          "base_uri": "https://localhost:8080/"
        },
        "id": "SFxjX1Su_0L7",
        "outputId": "0f62d1a7-8056-47c6-9520-8972b752b931"
      },
      "execution_count": null,
      "outputs": [
        {
          "output_type": "execute_result",
          "data": {
            "text/plain": [
              "array([list([1, 14, 22, 16, 43, 530, 973, 1622, 1385, 65, 458, 4468, 66, 3941, 4, 173, 36, 256, 5, 25, 100, 43, 838, 112, 50, 670, 2, 9, 35, 480, 284, 5, 150, 4, 172, 112, 167, 2, 336, 385, 39, 4, 172, 4536, 1111, 17, 546, 38, 13, 447, 4, 192, 50, 16, 6, 147, 2025, 19, 14, 22, 4, 1920, 4613, 469, 4, 22, 71, 87, 12, 16, 43, 530, 38, 76, 15, 13, 1247, 4, 22, 17, 515, 17, 12, 16, 626, 18, 2, 5, 62, 386, 12, 8, 316, 8, 106, 5, 4, 2223, 5244, 16, 480, 66, 3785, 33, 4, 130, 12, 16, 38, 619, 5, 25, 124, 51, 36, 135, 48, 25, 1415, 33, 6, 22, 12, 215, 28, 77, 52, 5, 14, 407, 16, 82, 2, 8, 4, 107, 117, 5952, 15, 256, 4, 2, 7, 3766, 5, 723, 36, 71, 43, 530, 476, 26, 400, 317, 46, 7, 4, 2, 1029, 13, 104, 88, 4, 381, 15, 297, 98, 32, 2071, 56, 26, 141, 6, 194, 7486, 18, 4, 226, 22, 21, 134, 476, 26, 480, 5, 144, 30, 5535, 18, 51, 36, 28, 224, 92, 25, 104, 4, 226, 65, 16, 38, 1334, 88, 12, 16, 283, 5, 16, 4472, 113, 103, 32, 15, 16, 5345, 19, 178, 32]),\n",
              "       list([1, 194, 1153, 194, 8255, 78, 228, 5, 6, 1463, 4369, 5012, 134, 26, 4, 715, 8, 118, 1634, 14, 394, 20, 13, 119, 954, 189, 102, 5, 207, 110, 3103, 21, 14, 69, 188, 8, 30, 23, 7, 4, 249, 126, 93, 4, 114, 9, 2300, 1523, 5, 647, 4, 116, 9, 35, 8163, 4, 229, 9, 340, 1322, 4, 118, 9, 4, 130, 4901, 19, 4, 1002, 5, 89, 29, 952, 46, 37, 4, 455, 9, 45, 43, 38, 1543, 1905, 398, 4, 1649, 26, 6853, 5, 163, 11, 3215, 2, 4, 1153, 9, 194, 775, 7, 8255, 2, 349, 2637, 148, 605, 2, 8003, 15, 123, 125, 68, 2, 6853, 15, 349, 165, 4362, 98, 5, 4, 228, 9, 43, 2, 1157, 15, 299, 120, 5, 120, 174, 11, 220, 175, 136, 50, 9, 4373, 228, 8255, 5, 2, 656, 245, 2350, 5, 4, 9837, 131, 152, 491, 18, 2, 32, 7464, 1212, 14, 9, 6, 371, 78, 22, 625, 64, 1382, 9, 8, 168, 145, 23, 4, 1690, 15, 16, 4, 1355, 5, 28, 6, 52, 154, 462, 33, 89, 78, 285, 16, 145, 95]),\n",
              "       list([1, 14, 47, 8, 30, 31, 7, 4, 249, 108, 7, 4, 5974, 54, 61, 369, 13, 71, 149, 14, 22, 112, 4, 2401, 311, 12, 16, 3711, 33, 75, 43, 1829, 296, 4, 86, 320, 35, 534, 19, 263, 4821, 1301, 4, 1873, 33, 89, 78, 12, 66, 16, 4, 360, 7, 4, 58, 316, 334, 11, 4, 1716, 43, 645, 662, 8, 257, 85, 1200, 42, 1228, 2578, 83, 68, 3912, 15, 36, 165, 1539, 278, 36, 69, 2, 780, 8, 106, 14, 6905, 1338, 18, 6, 22, 12, 215, 28, 610, 40, 6, 87, 326, 23, 2300, 21, 23, 22, 12, 272, 40, 57, 31, 11, 4, 22, 47, 6, 2307, 51, 9, 170, 23, 595, 116, 595, 1352, 13, 191, 79, 638, 89, 2, 14, 9, 8, 106, 607, 624, 35, 534, 6, 227, 7, 129, 113]),\n",
              "       ...,\n",
              "       list([1, 11, 6, 230, 245, 6401, 9, 6, 1225, 446, 2, 45, 2174, 84, 8322, 4007, 21, 4, 912, 84, 2, 325, 725, 134, 2, 1715, 84, 5, 36, 28, 57, 1099, 21, 8, 140, 8, 703, 5, 2, 84, 56, 18, 1644, 14, 9, 31, 7, 4, 9406, 1209, 2295, 2, 1008, 18, 6, 20, 207, 110, 563, 12, 8, 2901, 2, 8, 97, 6, 20, 53, 4767, 74, 4, 460, 364, 1273, 29, 270, 11, 960, 108, 45, 40, 29, 2961, 395, 11, 6, 4065, 500, 7, 2, 89, 364, 70, 29, 140, 4, 64, 4780, 11, 4, 2678, 26, 178, 4, 529, 443, 2, 5, 27, 710, 117, 2, 8123, 165, 47, 84, 37, 131, 818, 14, 595, 10, 10, 61, 1242, 1209, 10, 10, 288, 2260, 1702, 34, 2901, 2, 4, 65, 496, 4, 231, 7, 790, 5, 6, 320, 234, 2766, 234, 1119, 1574, 7, 496, 4, 139, 929, 2901, 2, 7750, 5, 4241, 18, 4, 8497, 2, 250, 11, 1818, 7561, 4, 4217, 5408, 747, 1115, 372, 1890, 1006, 541, 9303, 7, 4, 59, 2, 4, 3586, 2]),\n",
              "       list([1, 1446, 7079, 69, 72, 3305, 13, 610, 930, 8, 12, 582, 23, 5, 16, 484, 685, 54, 349, 11, 4120, 2959, 45, 58, 1466, 13, 197, 12, 16, 43, 23, 2, 5, 62, 30, 145, 402, 11, 4131, 51, 575, 32, 61, 369, 71, 66, 770, 12, 1054, 75, 100, 2198, 8, 4, 105, 37, 69, 147, 712, 75, 3543, 44, 257, 390, 5, 69, 263, 514, 105, 50, 286, 1814, 23, 4, 123, 13, 161, 40, 5, 421, 4, 116, 16, 897, 13, 2, 40, 319, 5872, 112, 6700, 11, 4803, 121, 25, 70, 3468, 4, 719, 3798, 13, 18, 31, 62, 40, 8, 7200, 4, 2, 7, 14, 123, 5, 942, 25, 8, 721, 12, 145, 5, 202, 12, 160, 580, 202, 12, 6, 52, 58, 2, 92, 401, 728, 12, 39, 14, 251, 8, 15, 251, 5, 2, 12, 38, 84, 80, 124, 12, 9, 23]),\n",
              "       list([1, 17, 6, 194, 337, 7, 4, 204, 22, 45, 254, 8, 106, 14, 123, 4, 2, 270, 2, 5, 2, 2, 732, 2098, 101, 405, 39, 14, 1034, 4, 1310, 9, 115, 50, 305, 12, 47, 4, 168, 5, 235, 7, 38, 111, 699, 102, 7, 4, 4039, 9245, 9, 24, 6, 78, 1099, 17, 2345, 2, 21, 27, 9685, 6139, 5, 2, 1603, 92, 1183, 4, 1310, 7, 4, 204, 42, 97, 90, 35, 221, 109, 29, 127, 27, 118, 8, 97, 12, 157, 21, 6789, 2, 9, 6, 66, 78, 1099, 4, 631, 1191, 5, 2642, 272, 191, 1070, 6, 7585, 8, 2197, 2, 2, 544, 5, 383, 1271, 848, 1468, 2, 497, 2, 8, 1597, 8778, 2, 21, 60, 27, 239, 9, 43, 8368, 209, 405, 10, 10, 12, 764, 40, 4, 248, 20, 12, 16, 5, 174, 1791, 72, 7, 51, 6, 1739, 22, 4, 204, 131, 9])],\n",
              "      dtype=object)"
            ]
          },
          "metadata": {},
          "execution_count": 3
        }
      ]
    },
    {
      "cell_type": "code",
      "source": [
        "train_labels"
      ],
      "metadata": {
        "colab": {
          "base_uri": "https://localhost:8080/"
        },
        "id": "hcmwhU_4B3pf",
        "outputId": "9fa861b2-54b9-4592-ac87-4a7a5cf21895"
      },
      "execution_count": null,
      "outputs": [
        {
          "output_type": "execute_result",
          "data": {
            "text/plain": [
              "array([1, 0, 0, ..., 0, 1, 0])"
            ]
          },
          "metadata": {},
          "execution_count": 4
        }
      ]
    },
    {
      "cell_type": "code",
      "source": [
        "max([max(sequence) for sequence in train_data])"
      ],
      "metadata": {
        "colab": {
          "base_uri": "https://localhost:8080/"
        },
        "id": "RhEe9WCXDGMw",
        "outputId": "dcc32e9d-8ff5-4554-99d3-87e4870fa30d"
      },
      "execution_count": null,
      "outputs": [
        {
          "output_type": "execute_result",
          "data": {
            "text/plain": [
              "9999"
            ]
          },
          "metadata": {},
          "execution_count": 5
        }
      ]
    },
    {
      "cell_type": "code",
      "source": [
        "word_index = imdb.get_word_index()                                \n",
        "reverse_word_index = dict(\n",
        "    [(value, key) for (key, value) in word_index.items()])       \n",
        "decoded_review = \" \".join(\n",
        "    [reverse_word_index.get(i - 3, \"?\") for i in train_data[0]])"
      ],
      "metadata": {
        "colab": {
          "base_uri": "https://localhost:8080/"
        },
        "id": "VqrRkrImDwgq",
        "outputId": "d992d8fb-9ae6-40e0-fda4-5a8455097632"
      },
      "execution_count": null,
      "outputs": [
        {
          "output_type": "stream",
          "name": "stdout",
          "text": [
            "Downloading data from https://storage.googleapis.com/tensorflow/tf-keras-datasets/imdb_word_index.json\n",
            "1646592/1641221 [==============================] - 0s 0us/step\n",
            "1654784/1641221 [==============================] - 0s 0us/step\n"
          ]
        }
      ]
    },
    {
      "cell_type": "code",
      "source": [
        "decoded_review"
      ],
      "metadata": {
        "colab": {
          "base_uri": "https://localhost:8080/",
          "height": 105
        },
        "id": "VUPdzW9pEC37",
        "outputId": "43623b4b-981d-4140-cf45-ed49718ce051"
      },
      "execution_count": null,
      "outputs": [
        {
          "output_type": "execute_result",
          "data": {
            "application/vnd.google.colaboratory.intrinsic+json": {
              "type": "string"
            },
            "text/plain": [
              "\"? this film was just brilliant casting location scenery story direction everyone's really suited the part they played and you could just imagine being there robert ? is an amazing actor and now the same being director ? father came from the same scottish island as myself so i loved the fact there was a real connection with this film the witty remarks throughout the film were great it was just brilliant so much that i bought the film as soon as it was released for ? and would recommend it to everyone to watch and the fly fishing was amazing really cried at the end it was so sad and you know what they say if you cry at a film it must have been good and this definitely was also ? to the two little boy's that played the ? of norman and paul they were just brilliant children are often left out of the ? list i think because the stars that play them all grown up are such a big profile for the whole film but these children are amazing and should be praised for what they have done don't you think the whole story was so lovely because it was true and was someone's life after all that was shared with us all\""
            ]
          },
          "metadata": {},
          "execution_count": 7
        }
      ]
    },
    {
      "cell_type": "markdown",
      "source": [
        "## Encoding the integer sequences via multi-hot encoding"
      ],
      "metadata": {
        "id": "u6pOypaCFBAC"
      }
    },
    {
      "cell_type": "code",
      "source": [
        "import numpy as np \n",
        "\n",
        "\n",
        "def vectorize_sequences(sequences, dimension=10000): \n",
        "    results = np.zeros((len(sequences), dimension))   \n",
        "    for i, sequence in enumerate(sequences):\n",
        "        for j in sequence:\n",
        "          # The reason because some numbers of the output are zero, it's\n",
        "          # because we are marking indices of the list, and those indices depends\n",
        "          # on each value of each list in the input sequence\n",
        "            results[i, j] = 1.                        \n",
        "    return results\n",
        "\n",
        "\n",
        "x_train = vectorize_sequences(train_data)             \n",
        "x_test = vectorize_sequences(test_data) "
      ],
      "metadata": {
        "id": "kReyuLZhEGRg"
      },
      "execution_count": null,
      "outputs": []
    },
    {
      "cell_type": "code",
      "source": [
        "y_train = np.asarray(train_labels).astype(\"float32\")\n",
        "y_test = np.asarray(test_labels).astype(\"float32\")"
      ],
      "metadata": {
        "id": "AjqBIafcFZRf"
      },
      "execution_count": null,
      "outputs": []
    },
    {
      "cell_type": "code",
      "source": [
        "len(x_train[0])"
      ],
      "metadata": {
        "colab": {
          "base_uri": "https://localhost:8080/"
        },
        "id": "9uLwwiC8FkPx",
        "outputId": "34e7a607-54a3-456f-e932-d868fb41f06d"
      },
      "execution_count": null,
      "outputs": [
        {
          "output_type": "execute_result",
          "data": {
            "text/plain": [
              "10000"
            ]
          },
          "metadata": {},
          "execution_count": 10
        }
      ]
    },
    {
      "cell_type": "code",
      "source": [
        "x_train[0][:10]"
      ],
      "metadata": {
        "colab": {
          "base_uri": "https://localhost:8080/"
        },
        "id": "43S1E4XfF595",
        "outputId": "ffeb778a-ae27-4977-bd1d-0786327dcd31"
      },
      "execution_count": null,
      "outputs": [
        {
          "output_type": "execute_result",
          "data": {
            "text/plain": [
              "array([0., 1., 1., 0., 1., 1., 1., 1., 1., 1.])"
            ]
          },
          "metadata": {},
          "execution_count": 13
        }
      ]
    },
    {
      "cell_type": "code",
      "source": [
        "for i, j in enumerate(train_data):\n",
        "  print(i, j)\n",
        "  break"
      ],
      "metadata": {
        "id": "66zKB9MEGzrm",
        "colab": {
          "base_uri": "https://localhost:8080/"
        },
        "outputId": "5576fc22-a9db-4940-9a5b-9f2c71f0ae48"
      },
      "execution_count": null,
      "outputs": [
        {
          "output_type": "stream",
          "name": "stdout",
          "text": [
            "0 [1, 14, 22, 16, 43, 530, 973, 1622, 1385, 65, 458, 4468, 66, 3941, 4, 173, 36, 256, 5, 25, 100, 43, 838, 112, 50, 670, 2, 9, 35, 480, 284, 5, 150, 4, 172, 112, 167, 2, 336, 385, 39, 4, 172, 4536, 1111, 17, 546, 38, 13, 447, 4, 192, 50, 16, 6, 147, 2025, 19, 14, 22, 4, 1920, 4613, 469, 4, 22, 71, 87, 12, 16, 43, 530, 38, 76, 15, 13, 1247, 4, 22, 17, 515, 17, 12, 16, 626, 18, 2, 5, 62, 386, 12, 8, 316, 8, 106, 5, 4, 2223, 5244, 16, 480, 66, 3785, 33, 4, 130, 12, 16, 38, 619, 5, 25, 124, 51, 36, 135, 48, 25, 1415, 33, 6, 22, 12, 215, 28, 77, 52, 5, 14, 407, 16, 82, 2, 8, 4, 107, 117, 5952, 15, 256, 4, 2, 7, 3766, 5, 723, 36, 71, 43, 530, 476, 26, 400, 317, 46, 7, 4, 2, 1029, 13, 104, 88, 4, 381, 15, 297, 98, 32, 2071, 56, 26, 141, 6, 194, 7486, 18, 4, 226, 22, 21, 134, 476, 26, 480, 5, 144, 30, 5535, 18, 51, 36, 28, 224, 92, 25, 104, 4, 226, 65, 16, 38, 1334, 88, 12, 16, 283, 5, 16, 4472, 113, 103, 32, 15, 16, 5345, 19, 178, 32]\n"
          ]
        }
      ]
    },
    {
      "cell_type": "markdown",
      "source": [
        "## Model Definition"
      ],
      "metadata": {
        "id": "vMjsoZcQOwkP"
      }
    },
    {
      "cell_type": "code",
      "source": [
        "from tensorflow import keras \n",
        "from tensorflow.keras import layers\n",
        "  \n",
        "model = keras.Sequential([\n",
        "    layers.Dense(16, activation=\"relu\"),\n",
        "    layers.Dense(16, activation=\"relu\"),\n",
        "    layers.Dense(1, activation=\"sigmoid\")\n",
        "])"
      ],
      "metadata": {
        "id": "ARaezRbgEKfA"
      },
      "execution_count": null,
      "outputs": []
    },
    {
      "cell_type": "code",
      "source": [
        "model.compile(optimizer=\"rmsprop\",\n",
        "              loss=\"binary_crossentropy\",\n",
        "              metrics=[\"accuracy\"])"
      ],
      "metadata": {
        "id": "rHAZ-DC8O4Jb"
      },
      "execution_count": null,
      "outputs": []
    },
    {
      "cell_type": "code",
      "source": [
        "x_val = x_train[:10000]\n",
        "partial_x_train = x_train[10000:]\n",
        "y_val = y_train[:10000]\n",
        "partial_y_train = y_train[10000:]"
      ],
      "metadata": {
        "id": "6NWClb24TeMw"
      },
      "execution_count": null,
      "outputs": []
    },
    {
      "cell_type": "code",
      "source": [
        "history = model.fit(partial_x_train,\n",
        "                    partial_y_train,\n",
        "                    epochs=20,\n",
        "                    batch_size=512,\n",
        "                    validation_data=(x_val, y_val))"
      ],
      "metadata": {
        "colab": {
          "base_uri": "https://localhost:8080/"
        },
        "id": "BjTd6-2cUS1W",
        "outputId": "67769c00-52ff-491e-c5d5-7deafcd265bc"
      },
      "execution_count": null,
      "outputs": [
        {
          "output_type": "stream",
          "name": "stdout",
          "text": [
            "Epoch 1/20\n",
            "30/30 [==============================] - 2s 35ms/step - loss: 0.5349 - accuracy: 0.7799 - val_loss: 0.4138 - val_accuracy: 0.8672\n",
            "Epoch 2/20\n",
            "30/30 [==============================] - 1s 31ms/step - loss: 0.3295 - accuracy: 0.8984 - val_loss: 0.3177 - val_accuracy: 0.8842\n",
            "Epoch 3/20\n",
            "30/30 [==============================] - 1s 25ms/step - loss: 0.2391 - accuracy: 0.9254 - val_loss: 0.2832 - val_accuracy: 0.8896\n",
            "Epoch 4/20\n",
            "30/30 [==============================] - 1s 25ms/step - loss: 0.1869 - accuracy: 0.9391 - val_loss: 0.2733 - val_accuracy: 0.8911\n",
            "Epoch 5/20\n",
            "30/30 [==============================] - 1s 25ms/step - loss: 0.1520 - accuracy: 0.9521 - val_loss: 0.2818 - val_accuracy: 0.8882\n",
            "Epoch 6/20\n",
            "30/30 [==============================] - 1s 25ms/step - loss: 0.1249 - accuracy: 0.9625 - val_loss: 0.3164 - val_accuracy: 0.8802\n",
            "Epoch 7/20\n",
            "30/30 [==============================] - 1s 24ms/step - loss: 0.1043 - accuracy: 0.9683 - val_loss: 0.3387 - val_accuracy: 0.8760\n",
            "Epoch 8/20\n",
            "30/30 [==============================] - 1s 25ms/step - loss: 0.0878 - accuracy: 0.9761 - val_loss: 0.3329 - val_accuracy: 0.8782\n",
            "Epoch 9/20\n",
            "30/30 [==============================] - 1s 25ms/step - loss: 0.0744 - accuracy: 0.9798 - val_loss: 0.3450 - val_accuracy: 0.8775\n",
            "Epoch 10/20\n",
            "30/30 [==============================] - 1s 26ms/step - loss: 0.0611 - accuracy: 0.9845 - val_loss: 0.3622 - val_accuracy: 0.8773\n",
            "Epoch 11/20\n",
            "30/30 [==============================] - 1s 25ms/step - loss: 0.0521 - accuracy: 0.9876 - val_loss: 0.4425 - val_accuracy: 0.8661\n",
            "Epoch 12/20\n",
            "30/30 [==============================] - 1s 26ms/step - loss: 0.0419 - accuracy: 0.9914 - val_loss: 0.4293 - val_accuracy: 0.8694\n",
            "Epoch 13/20\n",
            "30/30 [==============================] - 1s 25ms/step - loss: 0.0349 - accuracy: 0.9929 - val_loss: 0.4386 - val_accuracy: 0.8730\n",
            "Epoch 14/20\n",
            "30/30 [==============================] - 1s 25ms/step - loss: 0.0272 - accuracy: 0.9947 - val_loss: 0.4700 - val_accuracy: 0.8726\n",
            "Epoch 15/20\n",
            "30/30 [==============================] - 1s 25ms/step - loss: 0.0239 - accuracy: 0.9955 - val_loss: 0.5014 - val_accuracy: 0.8719\n",
            "Epoch 16/20\n",
            "30/30 [==============================] - 1s 25ms/step - loss: 0.0148 - accuracy: 0.9985 - val_loss: 0.5551 - val_accuracy: 0.8685\n",
            "Epoch 17/20\n",
            "30/30 [==============================] - 1s 25ms/step - loss: 0.0144 - accuracy: 0.9983 - val_loss: 0.5713 - val_accuracy: 0.8681\n",
            "Epoch 18/20\n",
            "30/30 [==============================] - 1s 25ms/step - loss: 0.0115 - accuracy: 0.9987 - val_loss: 0.6076 - val_accuracy: 0.8688\n",
            "Epoch 19/20\n",
            "30/30 [==============================] - 1s 25ms/step - loss: 0.0082 - accuracy: 0.9991 - val_loss: 0.6476 - val_accuracy: 0.8654\n",
            "Epoch 20/20\n",
            "30/30 [==============================] - 1s 24ms/step - loss: 0.0048 - accuracy: 0.9998 - val_loss: 0.6746 - val_accuracy: 0.8649\n"
          ]
        }
      ]
    },
    {
      "cell_type": "code",
      "source": [
        "history_dict = history.history\n",
        "history_dict.keys()"
      ],
      "metadata": {
        "colab": {
          "base_uri": "https://localhost:8080/"
        },
        "id": "eFn8veheWoOT",
        "outputId": "b5692d21-9b14-4f12-c53f-bad4703e7122"
      },
      "execution_count": null,
      "outputs": [
        {
          "output_type": "execute_result",
          "data": {
            "text/plain": [
              "dict_keys(['loss', 'accuracy', 'val_loss', 'val_accuracy'])"
            ]
          },
          "metadata": {},
          "execution_count": 22
        }
      ]
    },
    {
      "cell_type": "code",
      "source": [
        "import matplotlib.pyplot as plt\n",
        "history_dict = history.history\n",
        "loss_values = history_dict[\"loss\"]\n",
        "val_loss_values = history_dict[\"val_loss\"]\n",
        "epochs = range(1, len(loss_values) + 1)\n",
        "plt.plot(epochs, loss_values, \"bo\", label=\"Training loss\")       \n",
        "plt.plot(epochs, val_loss_values, \"b\", label=\"Validation loss\")  \n",
        "plt.title(\"Training and validation loss\")\n",
        "plt.xlabel(\"Epochs\")\n",
        "plt.ylabel(\"Loss\")\n",
        "plt.legend()\n",
        "plt.show()"
      ],
      "metadata": {
        "colab": {
          "base_uri": "https://localhost:8080/",
          "height": 295
        },
        "id": "_V8Th881XAbu",
        "outputId": "3d9ee0be-e45c-4740-edd6-c93264d14a45"
      },
      "execution_count": null,
      "outputs": [
        {
          "output_type": "display_data",
          "data": {
            "image/png": "[encoded data removed]",
            "text/plain": [
              "<Figure size 432x288 with 1 Axes>"
            ]
          },
          "metadata": {
            "needs_background": "light"
          }
        }
      ]
    },
    {
      "cell_type": "code",
      "source": [
        "plt.clf()                           \n",
        "acc = history_dict[\"accuracy\"]\n",
        "val_acc = history_dict[\"val_accuracy\"]\n",
        "plt.plot(epochs, acc, \"bo\", label=\"Training acc\")\n",
        "plt.plot(epochs, val_acc, \"b\", label=\"Validation acc\")\n",
        "plt.title(\"Training and validation accuracy\")\n",
        "plt.xlabel(\"Epochs\")\n",
        "plt.ylabel(\"Accuracy\")\n",
        "plt.legend()\n",
        "plt.show()"
      ],
      "metadata": {
        "colab": {
          "base_uri": "https://localhost:8080/",
          "height": 295
        },
        "id": "h_d_eMdEXwtb",
        "outputId": "276b5a70-7c7f-45e2-a692-4994afb2bd7a"
      },
      "execution_count": null,
      "outputs": [
        {
          "output_type": "display_data",
          "data": {
            "image/png": "[encoded data removed]",
            "text/plain": [
              "<Figure size 432x288 with 1 Axes>"
            ]
          },
          "metadata": {
            "needs_background": "light"
          }
        }
      ]
    },
    {
      "cell_type": "markdown",
      "source": [
        "In this case, to prevent overfitting, you could stop training after four epochs. In general, you can use a range of techniques to mitigate overfitting, which we’ll cover in chapter 5.\n",
        "\n",
        "Let’s train a new model from scratch for four epochs and then evaluate it on the test data."
      ],
      "metadata": {
        "id": "aTVLx_m9YTac"
      }
    },
    {
      "cell_type": "code",
      "source": [
        "model = keras.Sequential([\n",
        "    layers.Dense(16, activation=\"relu\"),\n",
        "    layers.Dense(16, activation=\"relu\"),\n",
        "    layers.Dense(1, activation=\"sigmoid\")\n",
        "])\n",
        "model.compile(optimizer=\"rmsprop\",\n",
        "              loss=\"binary_crossentropy\",\n",
        "              metrics=[\"accuracy\"])\n",
        "model.fit(x_train, y_train, epochs=4, batch_size=512)\n",
        "results = model.evaluate(x_test, y_test)"
      ],
      "metadata": {
        "colab": {
          "base_uri": "https://localhost:8080/"
        },
        "id": "tM0EO3ELX3FE",
        "outputId": "77bdab76-db58-4e33-8342-4020427a8d06"
      },
      "execution_count": null,
      "outputs": [
        {
          "output_type": "stream",
          "name": "stdout",
          "text": [
            "Epoch 1/4\n",
            "49/49 [==============================] - 1s 20ms/step - loss: 0.4703 - accuracy: 0.8189\n",
            "Epoch 2/4\n",
            "49/49 [==============================] - 1s 20ms/step - loss: 0.2679 - accuracy: 0.9084\n",
            "Epoch 3/4\n",
            "49/49 [==============================] - 1s 20ms/step - loss: 0.2048 - accuracy: 0.9281\n",
            "Epoch 4/4\n",
            "49/49 [==============================] - 1s 19ms/step - loss: 0.1712 - accuracy: 0.9381\n",
            "782/782 [==============================] - 1s 2ms/step - loss: 0.3002 - accuracy: 0.8812\n"
          ]
        }
      ]
    },
    {
      "cell_type": "code",
      "source": [
        "results"
      ],
      "metadata": {
        "colab": {
          "base_uri": "https://localhost:8080/"
        },
        "id": "uDF7EH-lYYBK",
        "outputId": "a4aa126a-5695-48b8-d45f-fc3939e6460e"
      },
      "execution_count": null,
      "outputs": [
        {
          "output_type": "execute_result",
          "data": {
            "text/plain": [
              "[0.3001624047756195, 0.8812400102615356]"
            ]
          },
          "metadata": {},
          "execution_count": 27
        }
      ]
    },
    {
      "cell_type": "markdown",
      "source": [
        "The first number, 0.29, is the test loss, and the second number, 0.88, is the test accuracy.\n",
        "\n",
        "This fairly naive approach achieves an accuracy of 88%. With state-of-the-art approaches, you should be able to get close to 95%."
      ],
      "metadata": {
        "id": "Bwg_1rRwYq8s"
      }
    },
    {
      "cell_type": "markdown",
      "source": [
        "## 4.1.2. Using the trained model to generate predictions on new data"
      ],
      "metadata": {
        "id": "uM06qgBYYysq"
      }
    },
    {
      "cell_type": "code",
      "source": [
        "model.predict(x_test)"
      ],
      "metadata": {
        "colab": {
          "base_uri": "https://localhost:8080/"
        },
        "id": "qN3RFqbKYe5g",
        "outputId": "1a81f841-59b9-4da3-cea7-cdef529060e4"
      },
      "execution_count": null,
      "outputs": [
        {
          "output_type": "execute_result",
          "data": {
            "text/plain": [
              "array([[0.17179072],\n",
              "       [0.99978125],\n",
              "       [0.6134919 ],\n",
              "       ...,\n",
              "       [0.08425489],\n",
              "       [0.06414258],\n",
              "       [0.65698844]], dtype=float32)"
            ]
          },
          "metadata": {},
          "execution_count": 28
        }
      ]
    },
    {
      "cell_type": "markdown",
      "source": [
        "### 4.1.3. Lesson conclussions\n",
        "\n",
        "* You usually need to do quite a bit of preprocessing on your raw data in order to be able to feed it—as tensors—into a neural network. Sequences of words can be encoded as binary vectors, but there are other encoding options too.\n",
        "\n",
        "* Stacks of Dense layers with relu activations can solve a wide range of problems (including sentiment classification), and you’ll likely use them frequently.\n",
        "\n",
        "* In a binary classification problem (two output classes), your model should end with a Dense layer with one unit and a sigmoid activation: the output of your model should be a scalar between 0 and 1, encoding a probability.\n",
        "\n",
        "* With such a scalar sigmoid output on a binary classification problem, the loss function you should use is binary_crossentropy.\n",
        "\n",
        "* The rmsprop optimizer is generally a good enough choice, whatever your problem. That’s one less thing for you to worry about.\n",
        "\n",
        "* As they get better on their training data, neural networks eventually start overfitting and end up obtaining increasingly worse results on data they’ve never seen before. Be sure to always monitor performance on data that is outside of the training set."
      ],
      "metadata": {
        "id": "J1oIbo_7aNRk"
      }
    },
    {
      "cell_type": "markdown",
      "source": [
        "# 4.2. Classifying newswires: A multiclass classification example"
      ],
      "metadata": {
        "id": "Jg883muuTZRS"
      }
    },
    {
      "cell_type": "markdown",
      "source": [
        "You’ll work with the Reuters dataset, a set of short newswires and their topics, published by Reuters in 1986. It’s a simple, widely used toy dataset for text classification. There are 46 different topics; some topics are more represented than others, but each topic has at least 10 examples in the training set."
      ],
      "metadata": {
        "id": "5H8ybEvcViKA"
      }
    },
    {
      "cell_type": "code",
      "source": [
        "from tensorflow.keras.datasets import reuters\n",
        "(train_data, train_labels), (test_data, test_labels) = reuters.load_data(\n",
        "    num_words=10000)"
      ],
      "metadata": {
        "id": "ctzXpMUOZgTc",
        "colab": {
          "base_uri": "https://localhost:8080/"
        },
        "outputId": "dbbaaa61-815a-46ee-f6e0-b2b9de708757"
      },
      "execution_count": null,
      "outputs": [
        {
          "output_type": "stream",
          "name": "stdout",
          "text": [
            "Downloading data from https://storage.googleapis.com/tensorflow/tf-keras-datasets/reuters.npz\n",
            "2113536/2110848 [==============================] - 0s 0us/step\n",
            "2121728/2110848 [==============================] - 0s 0us/step\n"
          ]
        }
      ]
    },
    {
      "cell_type": "code",
      "source": [
        "len(train_data)"
      ],
      "metadata": {
        "colab": {
          "base_uri": "https://localhost:8080/"
        },
        "id": "yDWrOVlHUOwV",
        "outputId": "bd70b769-1475-4659-8368-076524dd8e97"
      },
      "execution_count": null,
      "outputs": [
        {
          "output_type": "execute_result",
          "data": {
            "text/plain": [
              "8982"
            ]
          },
          "metadata": {},
          "execution_count": 2
        }
      ]
    },
    {
      "cell_type": "code",
      "source": [
        "len(test_data)"
      ],
      "metadata": {
        "colab": {
          "base_uri": "https://localhost:8080/"
        },
        "id": "ybZhifrxUVyg",
        "outputId": "7002aa69-3954-45e6-cf65-b47fec4c0923"
      },
      "execution_count": null,
      "outputs": [
        {
          "output_type": "execute_result",
          "data": {
            "text/plain": [
              "2246"
            ]
          },
          "metadata": {},
          "execution_count": 3
        }
      ]
    },
    {
      "cell_type": "markdown",
      "source": [
        "Each example is a list of integers (word indices):"
      ],
      "metadata": {
        "id": "IKhMts8pUlXf"
      }
    },
    {
      "cell_type": "code",
      "source": [
        "train_data[10]"
      ],
      "metadata": {
        "colab": {
          "base_uri": "https://localhost:8080/"
        },
        "id": "VWSHlXaSUYtc",
        "outputId": "6b0077c7-fd6d-4d51-acb3-1250a43bb89e"
      },
      "execution_count": null,
      "outputs": [
        {
          "output_type": "execute_result",
          "data": {
            "text/plain": [
              "[1,\n",
              " 245,\n",
              " 273,\n",
              " 207,\n",
              " 156,\n",
              " 53,\n",
              " 74,\n",
              " 160,\n",
              " 26,\n",
              " 14,\n",
              " 46,\n",
              " 296,\n",
              " 26,\n",
              " 39,\n",
              " 74,\n",
              " 2979,\n",
              " 3554,\n",
              " 14,\n",
              " 46,\n",
              " 4689,\n",
              " 4329,\n",
              " 86,\n",
              " 61,\n",
              " 3499,\n",
              " 4795,\n",
              " 14,\n",
              " 61,\n",
              " 451,\n",
              " 4329,\n",
              " 17,\n",
              " 12]"
            ]
          },
          "metadata": {},
          "execution_count": 4
        }
      ]
    },
    {
      "cell_type": "code",
      "source": [
        "word_index = reuters.get_word_index()\n",
        "reverse_word_index = dict(\n",
        "    [(value, key) for (key, value) in word_index.items()])\n",
        "decoded_newswire = \" \".join(\n",
        "    [reverse_word_index.get(i - 3, \"?\") for i in     train_data[0]])"
      ],
      "metadata": {
        "colab": {
          "base_uri": "https://localhost:8080/"
        },
        "id": "nJz1okPyUn6C",
        "outputId": "985d4b33-77be-4203-aded-5fe89ce113c9"
      },
      "execution_count": null,
      "outputs": [
        {
          "output_type": "stream",
          "name": "stdout",
          "text": [
            "Downloading data from https://storage.googleapis.com/tensorflow/tf-keras-datasets/reuters_word_index.json\n",
            "557056/550378 [==============================] - 0s 0us/step\n",
            "565248/550378 [==============================] - 0s 0us/step\n"
          ]
        }
      ]
    },
    {
      "cell_type": "code",
      "source": [
        "decoded_newswire"
      ],
      "metadata": {
        "colab": {
          "base_uri": "https://localhost:8080/",
          "height": 53
        },
        "id": "HhXxuA1EUtGU",
        "outputId": "d24d9f26-62b2-49e0-9699-f3c704971773"
      },
      "execution_count": null,
      "outputs": [
        {
          "output_type": "execute_result",
          "data": {
            "application/vnd.google.colaboratory.intrinsic+json": {
              "type": "string"
            },
            "text/plain": [
              "'? ? ? said as a result of its december acquisition of space co it expects earnings per share in 1987 of 1 15 to 1 30 dlrs per share up from 70 cts in 1986 the company said pretax net should rise to nine to 10 mln dlrs from six mln dlrs in 1986 and rental operation revenues to 19 to 22 mln dlrs from 12 5 mln dlrs it said cash flow per share this year should be 2 50 to three dlrs reuter 3'"
            ]
          },
          "metadata": {},
          "execution_count": 6
        }
      ]
    },
    {
      "cell_type": "markdown",
      "source": [
        "## 4.2.1. Preparing the data"
      ],
      "metadata": {
        "id": "kKwPmdwfVI2o"
      }
    },
    {
      "cell_type": "code",
      "source": [
        "import numpy as np \n",
        "\n",
        "\n",
        "def vectorize_sequences(sequences, dimension=10000): \n",
        "    results = np.zeros((len(sequences), dimension))   \n",
        "    for i, sequence in enumerate(sequences):\n",
        "        for j in sequence:\n",
        "          # The reason because some numbers of the output are zero, it's\n",
        "          # because we are marking indices of the list, and those indices depends\n",
        "          # on each value of each list in the input sequence\n",
        "            results[i, j] = 1.                        \n",
        "    return results\n",
        "\n",
        "\n",
        "x_train = vectorize_sequences(train_data)             \n",
        "x_test = vectorize_sequences(test_data) "
      ],
      "metadata": {
        "id": "o_mxN2mrUvgt"
      },
      "execution_count": null,
      "outputs": []
    },
    {
      "cell_type": "markdown",
      "source": [
        "### One hot encoding of labels"
      ],
      "metadata": {
        "id": "NyOTGsP6VX-o"
      }
    },
    {
      "cell_type": "code",
      "source": [
        "train_labels"
      ],
      "metadata": {
        "colab": {
          "base_uri": "https://localhost:8080/"
        },
        "id": "kC0__t4AWZKI",
        "outputId": "b015878b-8af0-4bf7-c336-c6e5f2ab1446"
      },
      "execution_count": null,
      "outputs": [
        {
          "output_type": "execute_result",
          "data": {
            "text/plain": [
              "array([ 3,  4,  3, ..., 25,  3, 25])"
            ]
          },
          "metadata": {},
          "execution_count": 11
        }
      ]
    },
    {
      "cell_type": "code",
      "source": [
        "def to_one_hot(labels, dimension=46):\n",
        "    results = np.zeros((len(labels), dimension))\n",
        "    for i, label in enumerate(labels):\n",
        "        results[i, label] = 1. \n",
        "    return results\n",
        "\n",
        "\n",
        "y_train = to_one_hot(train_labels)\n",
        "y_test = to_one_hot(test_labels)"
      ],
      "metadata": {
        "id": "-gWb97idVL00"
      },
      "execution_count": null,
      "outputs": []
    },
    {
      "cell_type": "code",
      "source": [
        "# There is a built-in function that replaces the previous function in Keras:\n",
        "\n",
        "from tensorflow.keras.utils import to_categorical\n",
        "\n",
        "y_train = to_categorical(train_labels)\n",
        "y_test = to_categorical(test_labels)"
      ],
      "metadata": {
        "id": "08BxeggWVW7I"
      },
      "execution_count": null,
      "outputs": []
    },
    {
      "cell_type": "markdown",
      "source": [
        "## 4.2.2. Model training"
      ],
      "metadata": {
        "id": "Va0ttn-vYJt_"
      }
    },
    {
      "cell_type": "markdown",
      "source": [
        "In a stack of Dense layers like those we’ve been using, each layer can only access information present in the output of the previous layer. If one layer drops some information relevant to the classification problem, this information can never be recovered by later layers: each layer can potentially become an information bottleneck. In the previous example, we used 16-dimensional intermediate layers, but a 16-dimensional space may be too limited to learn to separate 46 different classes: such small layers may act as information bottlenecks, permanently dropping relevant information.\n",
        "\n",
        "For this reason we’ll use larger layers. Let’s go with 64 units."
      ],
      "metadata": {
        "id": "ybZQALtPXch8"
      }
    },
    {
      "cell_type": "code",
      "source": [
        "from tensorflow import keras \n",
        "from tensorflow.keras import layers\n",
        "\n",
        "model = keras.Sequential([\n",
        "    layers.Dense(64, activation=\"relu\"),\n",
        "    layers.Dense(64, activation=\"relu\"),\n",
        "    layers.Dense(46, activation=\"softmax\")\n",
        "])"
      ],
      "metadata": {
        "id": "GGOadNYLWr4G"
      },
      "execution_count": null,
      "outputs": []
    },
    {
      "cell_type": "markdown",
      "source": [
        "The best loss function to use in this case is categorical_crossentropy. It measures the distance between two probability distributions: here, between the probability distribution output by the model and the true distribution of the labels. "
      ],
      "metadata": {
        "id": "clsfliHYYFQq"
      }
    },
    {
      "cell_type": "code",
      "source": [
        "model.compile(optimizer=\"rmsprop\",\n",
        "              loss=\"categorical_crossentropy\",\n",
        "              metrics=[\"accuracy\"])"
      ],
      "metadata": {
        "id": "ZSoI5kFZXrqU"
      },
      "execution_count": null,
      "outputs": []
    },
    {
      "cell_type": "code",
      "source": [
        "x_val = x_train[:1000]\n",
        "partial_x_train = x_train[1000:]\n",
        "y_val = y_train[:1000]\n",
        "partial_y_train = y_train[1000:]"
      ],
      "metadata": {
        "id": "ynm6mKl0YIz9"
      },
      "execution_count": null,
      "outputs": []
    },
    {
      "cell_type": "code",
      "source": [
        "history = model.fit(partial_x_train,\n",
        "                    partial_y_train,\n",
        "                    epochs=20,\n",
        "                    batch_size=512,\n",
        "                    validation_data=(x_val, y_val))"
      ],
      "metadata": {
        "colab": {
          "base_uri": "https://localhost:8080/"
        },
        "id": "E4erPjp3YO8t",
        "outputId": "fa1cfd6c-746d-439f-f3b7-82658a9c4d4e"
      },
      "execution_count": null,
      "outputs": [
        {
          "output_type": "stream",
          "name": "stdout",
          "text": [
            "Epoch 1/20\n",
            "16/16 [==============================] - 2s 60ms/step - loss: 2.6061 - accuracy: 0.5299 - val_loss: 1.7308 - val_accuracy: 0.6590\n",
            "Epoch 2/20\n",
            "16/16 [==============================] - 1s 45ms/step - loss: 1.4291 - accuracy: 0.7065 - val_loss: 1.3102 - val_accuracy: 0.7140\n",
            "Epoch 3/20\n",
            "16/16 [==============================] - 1s 46ms/step - loss: 1.0662 - accuracy: 0.7726 - val_loss: 1.1704 - val_accuracy: 0.7360\n",
            "Epoch 4/20\n",
            "16/16 [==============================] - 1s 47ms/step - loss: 0.8481 - accuracy: 0.8178 - val_loss: 1.0388 - val_accuracy: 0.7950\n",
            "Epoch 5/20\n",
            "16/16 [==============================] - 1s 46ms/step - loss: 0.6823 - accuracy: 0.8550 - val_loss: 0.9839 - val_accuracy: 0.7940\n",
            "Epoch 6/20\n",
            "16/16 [==============================] - 1s 46ms/step - loss: 0.5482 - accuracy: 0.8862 - val_loss: 0.9367 - val_accuracy: 0.8100\n",
            "Epoch 7/20\n",
            "16/16 [==============================] - 1s 45ms/step - loss: 0.4482 - accuracy: 0.9057 - val_loss: 0.9194 - val_accuracy: 0.8100\n",
            "Epoch 8/20\n",
            "16/16 [==============================] - 1s 46ms/step - loss: 0.3653 - accuracy: 0.9219 - val_loss: 0.9145 - val_accuracy: 0.8070\n",
            "Epoch 9/20\n",
            "16/16 [==============================] - 1s 45ms/step - loss: 0.3014 - accuracy: 0.9345 - val_loss: 0.9063 - val_accuracy: 0.8190\n",
            "Epoch 10/20\n",
            "16/16 [==============================] - 1s 45ms/step - loss: 0.2526 - accuracy: 0.9430 - val_loss: 0.9377 - val_accuracy: 0.8100\n",
            "Epoch 11/20\n",
            "16/16 [==============================] - 1s 45ms/step - loss: 0.2143 - accuracy: 0.9484 - val_loss: 0.9627 - val_accuracy: 0.8010\n",
            "Epoch 12/20\n",
            "16/16 [==============================] - 1s 47ms/step - loss: 0.1907 - accuracy: 0.9506 - val_loss: 0.9421 - val_accuracy: 0.8160\n",
            "Epoch 13/20\n",
            "16/16 [==============================] - 1s 45ms/step - loss: 0.1670 - accuracy: 0.9514 - val_loss: 0.9621 - val_accuracy: 0.8110\n",
            "Epoch 14/20\n",
            "16/16 [==============================] - 1s 46ms/step - loss: 0.1529 - accuracy: 0.9526 - val_loss: 0.9696 - val_accuracy: 0.8120\n",
            "Epoch 15/20\n",
            "16/16 [==============================] - 1s 46ms/step - loss: 0.1438 - accuracy: 0.9550 - val_loss: 0.9936 - val_accuracy: 0.8130\n",
            "Epoch 16/20\n",
            "16/16 [==============================] - 1s 45ms/step - loss: 0.1359 - accuracy: 0.9559 - val_loss: 1.0042 - val_accuracy: 0.8140\n",
            "Epoch 17/20\n",
            "16/16 [==============================] - 1s 45ms/step - loss: 0.1258 - accuracy: 0.9587 - val_loss: 1.0371 - val_accuracy: 0.8140\n",
            "Epoch 18/20\n",
            "16/16 [==============================] - 1s 46ms/step - loss: 0.1198 - accuracy: 0.9572 - val_loss: 1.0308 - val_accuracy: 0.8100\n",
            "Epoch 19/20\n",
            "16/16 [==============================] - 1s 45ms/step - loss: 0.1182 - accuracy: 0.9558 - val_loss: 1.1073 - val_accuracy: 0.7930\n",
            "Epoch 20/20\n",
            "16/16 [==============================] - 1s 43ms/step - loss: 0.1130 - accuracy: 0.9568 - val_loss: 1.0751 - val_accuracy: 0.7980\n"
          ]
        }
      ]
    },
    {
      "cell_type": "code",
      "source": [
        "import matplotlib.pyplot as plt\n",
        "\n",
        "loss = history.history[\"loss\"]\n",
        "val_loss = history.history[\"val_loss\"]\n",
        "epochs = range(1, len(loss) + 1)\n",
        "plt.plot(epochs, loss, \"bo\", label=\"Training loss\")\n",
        "plt.plot(epochs, val_loss, \"b\", label=\"Validation loss\")\n",
        "plt.title(\"Training and validation loss\")\n",
        "plt.xlabel(\"Epochs\")\n",
        "plt.ylabel(\"Loss\")\n",
        "plt.legend()\n",
        "plt.show()"
      ],
      "metadata": {
        "colab": {
          "base_uri": "https://localhost:8080/",
          "height": 295
        },
        "id": "0tNQpxc5YQ31",
        "outputId": "f15e4238-815d-4b89-8f11-4cb9813787bb"
      },
      "execution_count": null,
      "outputs": [
        {
          "output_type": "display_data",
          "data": {
            "image/png": "[encoded data removed]",
            "text/plain": [
              "<Figure size 432x288 with 1 Axes>"
            ]
          },
          "metadata": {
            "needs_background": "light"
          }
        }
      ]
    },
    {
      "cell_type": "code",
      "source": [
        "plt.clf()                         \n",
        "acc = history.history[\"accuracy\"]\n",
        "val_acc = history.history[\"val_accuracy\"]\n",
        "plt.plot(epochs, acc, \"bo\", label=\"Training accuracy\")\n",
        "plt.plot(epochs, val_acc, \"b\", label=\"Validation accuracy\")\n",
        "plt.title(\"Training and validation accuracy\")\n",
        "plt.xlabel(\"Epochs\")\n",
        "plt.ylabel(\"Accuracy\")\n",
        "plt.legend()\n",
        "plt.show()"
      ],
      "metadata": {
        "colab": {
          "base_uri": "https://localhost:8080/",
          "height": 295
        },
        "id": "6LCELbgFYZXr",
        "outputId": "a1f6982a-e690-4306-c88f-89943dee956a"
      },
      "execution_count": null,
      "outputs": [
        {
          "output_type": "display_data",
          "data": {
            "image/png": "[encoded data removed]",
            "text/plain": [
              "<Figure size 432x288 with 1 Axes>"
            ]
          },
          "metadata": {
            "needs_background": "light"
          }
        }
      ]
    },
    {
      "cell_type": "markdown",
      "source": [
        "The model begins to overfit after nine epochs. Let’s train a new model from scratch for nine epochs and then evaluate it on the test set."
      ],
      "metadata": {
        "id": "QvciCzWlY0Xd"
      }
    },
    {
      "cell_type": "code",
      "source": [
        "model = keras.Sequential([\n",
        "    layers.Dense(64, activation=\"relu\"),\n",
        "    layers.Dense(64, activation=\"relu\"),\n",
        "    layers.Dense(46, activation=\"softmax\")\n",
        "])\n",
        "model.compile(optimizer=\"rmsprop\",\n",
        "              loss=\"categorical_crossentropy\",\n",
        "              metrics=[\"accuracy\"])\n",
        "model.fit(x_train,\n",
        "          y_train,\n",
        "          epochs=9,\n",
        "          batch_size=512)\n",
        "results = model.evaluate(x_test, y_test)"
      ],
      "metadata": {
        "colab": {
          "base_uri": "https://localhost:8080/"
        },
        "id": "IYRhjAeaYgXh",
        "outputId": "f2725dd8-ef5e-49d3-bcf0-ffc8f7a14938"
      },
      "execution_count": null,
      "outputs": [
        {
          "output_type": "stream",
          "name": "stdout",
          "text": [
            "Epoch 1/9\n",
            "18/18 [==============================] - 1s 42ms/step - loss: 2.6311 - accuracy: 0.5198\n",
            "Epoch 2/9\n",
            "18/18 [==============================] - 1s 41ms/step - loss: 1.4017 - accuracy: 0.7091\n",
            "Epoch 3/9\n",
            "18/18 [==============================] - 1s 41ms/step - loss: 1.0277 - accuracy: 0.7839\n",
            "Epoch 4/9\n",
            "18/18 [==============================] - 1s 42ms/step - loss: 0.8032 - accuracy: 0.8338\n",
            "Epoch 5/9\n",
            "18/18 [==============================] - 1s 42ms/step - loss: 0.6349 - accuracy: 0.8701\n",
            "Epoch 6/9\n",
            "18/18 [==============================] - 1s 41ms/step - loss: 0.5056 - accuracy: 0.8952\n",
            "Epoch 7/9\n",
            "18/18 [==============================] - 1s 41ms/step - loss: 0.4076 - accuracy: 0.9137\n",
            "Epoch 8/9\n",
            "18/18 [==============================] - 1s 42ms/step - loss: 0.3377 - accuracy: 0.9264\n",
            "Epoch 9/9\n",
            "18/18 [==============================] - 1s 40ms/step - loss: 0.2818 - accuracy: 0.9375\n",
            "71/71 [==============================] - 0s 2ms/step - loss: 0.9220 - accuracy: 0.7952\n"
          ]
        }
      ]
    },
    {
      "cell_type": "code",
      "source": [
        "results"
      ],
      "metadata": {
        "colab": {
          "base_uri": "https://localhost:8080/"
        },
        "id": "vygJTaymYtnJ",
        "outputId": "3259bfcc-3fa4-4380-818e-df264bd9325e"
      },
      "execution_count": null,
      "outputs": [
        {
          "output_type": "execute_result",
          "data": {
            "text/plain": [
              "[0.9219828248023987, 0.7951914668083191]"
            ]
          },
          "metadata": {},
          "execution_count": 25
        }
      ]
    },
    {
      "cell_type": "markdown",
      "source": [
        "This approach reaches an accuracy of ~80%. With a balanced binary classification problem, the accuracy reached by a purely random classifier would be 50%. But in this case, we have 46 classes, and they may not be equally represented. What would be the accuracy of a random baseline? We could try quickly implementing one to check this empirically:"
      ],
      "metadata": {
        "id": "DTSbyBE0ZG11"
      }
    },
    {
      "cell_type": "code",
      "source": [
        "import copy\n",
        "test_labels_copy = copy.copy(test_labels)\n",
        "np.random.shuffle(test_labels_copy)\n",
        "hits_array = np.array(test_labels) == np.array(test_labels_copy)\n",
        "hits_array.mean()"
      ],
      "metadata": {
        "colab": {
          "base_uri": "https://localhost:8080/"
        },
        "id": "a87bMbLmYyvQ",
        "outputId": "eca87643-3ea6-421c-a544-7bed158587fc"
      },
      "execution_count": null,
      "outputs": [
        {
          "output_type": "execute_result",
          "data": {
            "text/plain": [
              "0.18521816562778273"
            ]
          },
          "metadata": {},
          "execution_count": 27
        }
      ]
    },
    {
      "cell_type": "markdown",
      "source": [
        "As you can see, a random classifier would score around 19% classification accuracy, so the results of our model seem pretty good in that light."
      ],
      "metadata": {
        "id": "Ag0sH9lWZVhX"
      }
    },
    {
      "cell_type": "markdown",
      "source": [
        "## 4.2.4 Generating predictions on new data"
      ],
      "metadata": {
        "id": "J7dIjH3IZXZd"
      }
    },
    {
      "cell_type": "code",
      "source": [
        "predictions = model.predict(x_test)"
      ],
      "metadata": {
        "id": "wKaSV4aKZSXz"
      },
      "execution_count": null,
      "outputs": []
    },
    {
      "cell_type": "code",
      "source": [
        "# Each entry in “predictions” is a vector of length 46:\n",
        "\n",
        "predictions[0].shape"
      ],
      "metadata": {
        "colab": {
          "base_uri": "https://localhost:8080/"
        },
        "id": "9njLz24pZePM",
        "outputId": "bdcdbe8e-652d-4e06-fd04-c004479df08b"
      },
      "execution_count": null,
      "outputs": [
        {
          "output_type": "execute_result",
          "data": {
            "text/plain": [
              "(46,)"
            ]
          },
          "metadata": {},
          "execution_count": 30
        }
      ]
    },
    {
      "cell_type": "code",
      "source": [
        "# The coefficients in this vector sum to 1, as they form a probability distribution:\n",
        "\n",
        "np.sum(predictions[0])"
      ],
      "metadata": {
        "colab": {
          "base_uri": "https://localhost:8080/"
        },
        "id": "UOfR6_2vZf7R",
        "outputId": "359b152d-a6d1-48f8-f464-e621917b59d7"
      },
      "execution_count": null,
      "outputs": [
        {
          "output_type": "execute_result",
          "data": {
            "text/plain": [
              "0.99999994"
            ]
          },
          "metadata": {},
          "execution_count": 31
        }
      ]
    },
    {
      "cell_type": "markdown",
      "source": [
        "The largest entry is the predicted class—the class with the highest probability:"
      ],
      "metadata": {
        "id": "64NARhYLZ99o"
      }
    },
    {
      "cell_type": "code",
      "source": [
        "np.argmax(predictions[0])"
      ],
      "metadata": {
        "colab": {
          "base_uri": "https://localhost:8080/"
        },
        "id": "bYZknURUZpp_",
        "outputId": "ebecc9aa-d941-409d-bd5a-a9124b45f89b"
      },
      "execution_count": null,
      "outputs": [
        {
          "output_type": "execute_result",
          "data": {
            "text/plain": [
              "3"
            ]
          },
          "metadata": {},
          "execution_count": 33
        }
      ]
    },
    {
      "cell_type": "markdown",
      "source": [
        "Now let’s see what happens when we introduce an information bottleneck by having intermediate layers that are significantly less than 46-dimensional: for example, 4-dimensional."
      ],
      "metadata": {
        "id": "fHrJLVkVaNxI"
      }
    },
    {
      "cell_type": "code",
      "source": [
        "model = keras.Sequential([\n",
        "    layers.Dense(64, activation=\"relu\"),\n",
        "    layers.Dense(4, activation=\"relu\"),\n",
        "    layers.Dense(46, activation=\"softmax\")\n",
        "])\n",
        "model.compile(optimizer=\"rmsprop\",\n",
        "              loss=\"categorical_crossentropy\",\n",
        "              metrics=[\"accuracy\"])\n",
        "model.fit(partial_x_train,\n",
        "          partial_y_train,\n",
        "          epochs=20,\n",
        "          batch_size=128,\n",
        "          validation_data=(x_val, y_val))"
      ],
      "metadata": {
        "colab": {
          "base_uri": "https://localhost:8080/"
        },
        "id": "_j3QaQVyaAUd",
        "outputId": "7d563700-66f3-4c31-f295-00420c177e66"
      },
      "execution_count": null,
      "outputs": [
        {
          "output_type": "stream",
          "name": "stdout",
          "text": [
            "Epoch 1/20\n",
            "63/63 [==============================] - 2s 19ms/step - loss: 2.9595 - accuracy: 0.2929 - val_loss: 2.1735 - val_accuracy: 0.5650\n",
            "Epoch 2/20\n",
            "63/63 [==============================] - 1s 16ms/step - loss: 1.7436 - accuracy: 0.5728 - val_loss: 1.5382 - val_accuracy: 0.6190\n",
            "Epoch 3/20\n",
            "63/63 [==============================] - 1s 16ms/step - loss: 1.3240 - accuracy: 0.6582 - val_loss: 1.3814 - val_accuracy: 0.6600\n",
            "Epoch 4/20\n",
            "63/63 [==============================] - 1s 16ms/step - loss: 1.1177 - accuracy: 0.7129 - val_loss: 1.2980 - val_accuracy: 0.6960\n",
            "Epoch 5/20\n",
            "63/63 [==============================] - 1s 16ms/step - loss: 0.9867 - accuracy: 0.7521 - val_loss: 1.2656 - val_accuracy: 0.7000\n",
            "Epoch 6/20\n",
            "63/63 [==============================] - 1s 16ms/step - loss: 0.8930 - accuracy: 0.7681 - val_loss: 1.2543 - val_accuracy: 0.7240\n",
            "Epoch 7/20\n",
            "63/63 [==============================] - 1s 16ms/step - loss: 0.8182 - accuracy: 0.7938 - val_loss: 1.2525 - val_accuracy: 0.7330\n",
            "Epoch 8/20\n",
            "63/63 [==============================] - 1s 16ms/step - loss: 0.7554 - accuracy: 0.8048 - val_loss: 1.2723 - val_accuracy: 0.7340\n",
            "Epoch 9/20\n",
            "63/63 [==============================] - 1s 16ms/step - loss: 0.7008 - accuracy: 0.8140 - val_loss: 1.2966 - val_accuracy: 0.7310\n",
            "Epoch 10/20\n",
            "63/63 [==============================] - 1s 15ms/step - loss: 0.6580 - accuracy: 0.8192 - val_loss: 1.3167 - val_accuracy: 0.7380\n",
            "Epoch 11/20\n",
            "63/63 [==============================] - 1s 16ms/step - loss: 0.6152 - accuracy: 0.8281 - val_loss: 1.3720 - val_accuracy: 0.7230\n",
            "Epoch 12/20\n",
            "63/63 [==============================] - 1s 16ms/step - loss: 0.5798 - accuracy: 0.8469 - val_loss: 1.3634 - val_accuracy: 0.7280\n",
            "Epoch 13/20\n",
            "63/63 [==============================] - 1s 16ms/step - loss: 0.5499 - accuracy: 0.8518 - val_loss: 1.4272 - val_accuracy: 0.7290\n",
            "Epoch 14/20\n",
            "63/63 [==============================] - 1s 16ms/step - loss: 0.5226 - accuracy: 0.8539 - val_loss: 1.4821 - val_accuracy: 0.7300\n",
            "Epoch 15/20\n",
            "63/63 [==============================] - 1s 15ms/step - loss: 0.4985 - accuracy: 0.8578 - val_loss: 1.5323 - val_accuracy: 0.7230\n",
            "Epoch 16/20\n",
            "63/63 [==============================] - 1s 15ms/step - loss: 0.4785 - accuracy: 0.8631 - val_loss: 1.5773 - val_accuracy: 0.7260\n",
            "Epoch 17/20\n",
            "63/63 [==============================] - 1s 16ms/step - loss: 0.4590 - accuracy: 0.8677 - val_loss: 1.6159 - val_accuracy: 0.7190\n",
            "Epoch 18/20\n",
            "63/63 [==============================] - 1s 16ms/step - loss: 0.4426 - accuracy: 0.8717 - val_loss: 1.7146 - val_accuracy: 0.7110\n",
            "Epoch 19/20\n",
            "63/63 [==============================] - 1s 16ms/step - loss: 0.4274 - accuracy: 0.8727 - val_loss: 1.7044 - val_accuracy: 0.7180\n",
            "Epoch 20/20\n",
            "63/63 [==============================] - 1s 16ms/step - loss: 0.4155 - accuracy: 0.8753 - val_loss: 1.7666 - val_accuracy: 0.7110\n"
          ]
        },
        {
          "output_type": "execute_result",
          "data": {
            "text/plain": [
              "<keras.callbacks.History at 0x7f5417561410>"
            ]
          },
          "metadata": {},
          "execution_count": 34
        }
      ]
    },
    {
      "cell_type": "markdown",
      "source": [
        "The model now peaks at ~71% validation accuracy, an 8% absolute drop. This drop is mostly due to the fact that we’re trying to compress a lot of information (enough information to recover the separation hyperplanes of 46 classes) into an intermediate space that is too low-dimensional. The model is able to cram most of the necessary information into these four-dimensional representations, but not all of it."
      ],
      "metadata": {
        "id": "0msFUpeLaaop"
      }
    },
    {
      "cell_type": "markdown",
      "source": [
        "# 4.3. Predicting house prices: A regression example"
      ],
      "metadata": {
        "id": "9aqLbT1MNHma"
      }
    },
    {
      "cell_type": "code",
      "source": [
        "from tensorflow.keras.datasets import boston_housing\n",
        "(train_data, train_targets), (test_data, test_targets) = (\n",
        "    boston_housing.load_data())"
      ],
      "metadata": {
        "id": "Ao2cSlBpaSei",
        "colab": {
          "base_uri": "https://localhost:8080/"
        },
        "outputId": "a99df7be-09f1-4f96-b5fb-347f9c0df7d0"
      },
      "execution_count": 1,
      "outputs": [
        {
          "output_type": "stream",
          "name": "stdout",
          "text": [
            "Downloading data from https://storage.googleapis.com/tensorflow/tf-keras-datasets/boston_housing.npz\n",
            "57344/57026 [==============================] - 0s 0us/step\n",
            "65536/57026 [==================================] - 0s 0us/step\n"
          ]
        }
      ]
    },
    {
      "cell_type": "code",
      "source": [
        "train_data.shape"
      ],
      "metadata": {
        "colab": {
          "base_uri": "https://localhost:8080/"
        },
        "id": "8H-DFi3qO8qt",
        "outputId": "99df2a88-ad08-4f2f-8444-5fc6e05c611a"
      },
      "execution_count": 2,
      "outputs": [
        {
          "output_type": "execute_result",
          "data": {
            "text/plain": [
              "(404, 13)"
            ]
          },
          "metadata": {},
          "execution_count": 2
        }
      ]
    },
    {
      "cell_type": "code",
      "source": [
        "test_data.shape"
      ],
      "metadata": {
        "colab": {
          "base_uri": "https://localhost:8080/"
        },
        "id": "8ErftI8qO-MU",
        "outputId": "c6cc0c37-e5c6-4221-bd24-cc0e0090ac69"
      },
      "execution_count": 3,
      "outputs": [
        {
          "output_type": "execute_result",
          "data": {
            "text/plain": [
              "(102, 13)"
            ]
          },
          "metadata": {},
          "execution_count": 3
        }
      ]
    },
    {
      "cell_type": "code",
      "source": [
        "# The targets are the median values of owner-occupied homes, in thousands of dollars:\n",
        "train_targets"
      ],
      "metadata": {
        "colab": {
          "base_uri": "https://localhost:8080/"
        },
        "id": "A8b6CGUqO_ql",
        "outputId": "0fbe3af5-fcc1-44c0-8ccd-83cab499d639"
      },
      "execution_count": 4,
      "outputs": [
        {
          "output_type": "execute_result",
          "data": {
            "text/plain": [
              "array([15.2, 42.3, 50. , 21.1, 17.7, 18.5, 11.3, 15.6, 15.6, 14.4, 12.1,\n",
              "       17.9, 23.1, 19.9, 15.7,  8.8, 50. , 22.5, 24.1, 27.5, 10.9, 30.8,\n",
              "       32.9, 24. , 18.5, 13.3, 22.9, 34.7, 16.6, 17.5, 22.3, 16.1, 14.9,\n",
              "       23.1, 34.9, 25. , 13.9, 13.1, 20.4, 20. , 15.2, 24.7, 22.2, 16.7,\n",
              "       12.7, 15.6, 18.4, 21. , 30.1, 15.1, 18.7,  9.6, 31.5, 24.8, 19.1,\n",
              "       22. , 14.5, 11. , 32. , 29.4, 20.3, 24.4, 14.6, 19.5, 14.1, 14.3,\n",
              "       15.6, 10.5,  6.3, 19.3, 19.3, 13.4, 36.4, 17.8, 13.5, 16.5,  8.3,\n",
              "       14.3, 16. , 13.4, 28.6, 43.5, 20.2, 22. , 23. , 20.7, 12.5, 48.5,\n",
              "       14.6, 13.4, 23.7, 50. , 21.7, 39.8, 38.7, 22.2, 34.9, 22.5, 31.1,\n",
              "       28.7, 46. , 41.7, 21. , 26.6, 15. , 24.4, 13.3, 21.2, 11.7, 21.7,\n",
              "       19.4, 50. , 22.8, 19.7, 24.7, 36.2, 14.2, 18.9, 18.3, 20.6, 24.6,\n",
              "       18.2,  8.7, 44. , 10.4, 13.2, 21.2, 37. , 30.7, 22.9, 20. , 19.3,\n",
              "       31.7, 32. , 23.1, 18.8, 10.9, 50. , 19.6,  5. , 14.4, 19.8, 13.8,\n",
              "       19.6, 23.9, 24.5, 25. , 19.9, 17.2, 24.6, 13.5, 26.6, 21.4, 11.9,\n",
              "       22.6, 19.6,  8.5, 23.7, 23.1, 22.4, 20.5, 23.6, 18.4, 35.2, 23.1,\n",
              "       27.9, 20.6, 23.7, 28. , 13.6, 27.1, 23.6, 20.6, 18.2, 21.7, 17.1,\n",
              "        8.4, 25.3, 13.8, 22.2, 18.4, 20.7, 31.6, 30.5, 20.3,  8.8, 19.2,\n",
              "       19.4, 23.1, 23. , 14.8, 48.8, 22.6, 33.4, 21.1, 13.6, 32.2, 13.1,\n",
              "       23.4, 18.9, 23.9, 11.8, 23.3, 22.8, 19.6, 16.7, 13.4, 22.2, 20.4,\n",
              "       21.8, 26.4, 14.9, 24.1, 23.8, 12.3, 29.1, 21. , 19.5, 23.3, 23.8,\n",
              "       17.8, 11.5, 21.7, 19.9, 25. , 33.4, 28.5, 21.4, 24.3, 27.5, 33.1,\n",
              "       16.2, 23.3, 48.3, 22.9, 22.8, 13.1, 12.7, 22.6, 15. , 15.3, 10.5,\n",
              "       24. , 18.5, 21.7, 19.5, 33.2, 23.2,  5. , 19.1, 12.7, 22.3, 10.2,\n",
              "       13.9, 16.3, 17. , 20.1, 29.9, 17.2, 37.3, 45.4, 17.8, 23.2, 29. ,\n",
              "       22. , 18. , 17.4, 34.6, 20.1, 25. , 15.6, 24.8, 28.2, 21.2, 21.4,\n",
              "       23.8, 31. , 26.2, 17.4, 37.9, 17.5, 20. ,  8.3, 23.9,  8.4, 13.8,\n",
              "        7.2, 11.7, 17.1, 21.6, 50. , 16.1, 20.4, 20.6, 21.4, 20.6, 36.5,\n",
              "        8.5, 24.8, 10.8, 21.9, 17.3, 18.9, 36.2, 14.9, 18.2, 33.3, 21.8,\n",
              "       19.7, 31.6, 24.8, 19.4, 22.8,  7.5, 44.8, 16.8, 18.7, 50. , 50. ,\n",
              "       19.5, 20.1, 50. , 17.2, 20.8, 19.3, 41.3, 20.4, 20.5, 13.8, 16.5,\n",
              "       23.9, 20.6, 31.5, 23.3, 16.8, 14. , 33.8, 36.1, 12.8, 18.3, 18.7,\n",
              "       19.1, 29. , 30.1, 50. , 50. , 22. , 11.9, 37.6, 50. , 22.7, 20.8,\n",
              "       23.5, 27.9, 50. , 19.3, 23.9, 22.6, 15.2, 21.7, 19.2, 43.8, 20.3,\n",
              "       33.2, 19.9, 22.5, 32.7, 22. , 17.1, 19. , 15. , 16.1, 25.1, 23.7,\n",
              "       28.7, 37.2, 22.6, 16.4, 25. , 29.8, 22.1, 17.4, 18.1, 30.3, 17.5,\n",
              "       24.7, 12.6, 26.5, 28.7, 13.3, 10.4, 24.4, 23. , 20. , 17.8,  7. ,\n",
              "       11.8, 24.4, 13.8, 19.4, 25.2, 19.4, 19.4, 29.1])"
            ]
          },
          "metadata": {},
          "execution_count": 4
        }
      ]
    },
    {
      "cell_type": "markdown",
      "source": [
        "## 4.3.1 Normalize Data"
      ],
      "metadata": {
        "id": "pnCnQ2PFPjtS"
      }
    },
    {
      "cell_type": "markdown",
      "source": [
        "It would be problematic to feed into a neural network values that all take wildly different ranges.\n",
        "\n",
        "A widespread best practice for dealing with such data is to do feature-wise normalization: for each feature in the input data (a column in the input data matrix), we subtract the mean of the feature and divide by the standard deviation, so that the feature is centered around 0 and has a unit standard deviation. "
      ],
      "metadata": {
        "id": "96jx36yfPp_H"
      }
    },
    {
      "cell_type": "code",
      "source": [
        "mean = train_data.mean(axis=0)\n",
        "train_data -= mean\n",
        "std = train_data.std(axis=0)\n",
        "train_data /= std\n",
        "test_data -= mean\n",
        "test_data /= std"
      ],
      "metadata": {
        "id": "Uz-NeeZjPiwz"
      },
      "execution_count": 5,
      "outputs": []
    },
    {
      "cell_type": "code",
      "source": [
        "mean"
      ],
      "metadata": {
        "colab": {
          "base_uri": "https://localhost:8080/"
        },
        "id": "nj2zt-iSPL_E",
        "outputId": "f722dc56-80ea-46d0-f999-f67b20332d1a"
      },
      "execution_count": 6,
      "outputs": [
        {
          "output_type": "execute_result",
          "data": {
            "text/plain": [
              "array([3.74511057e+00, 1.14801980e+01, 1.11044307e+01, 6.18811881e-02,\n",
              "       5.57355941e-01, 6.26708168e+00, 6.90106436e+01, 3.74027079e+00,\n",
              "       9.44059406e+00, 4.05898515e+02, 1.84759901e+01, 3.54783168e+02,\n",
              "       1.27408168e+01])"
            ]
          },
          "metadata": {},
          "execution_count": 6
        }
      ]
    },
    {
      "cell_type": "markdown",
      "source": [
        "Because so few samples are available, we’ll use a very small model with two intermediate layers, each with 64 units. In general, the less training data you have, the worse overfitting will be, and using a small model is one way to mitigate overfitting."
      ],
      "metadata": {
        "id": "ShQabUdnQwxi"
      }
    },
    {
      "cell_type": "markdown",
      "source": [
        "## 4.3.2. Model definition"
      ],
      "metadata": {
        "id": "YBDq75LSQz_V"
      }
    },
    {
      "cell_type": "markdown",
      "source": [
        "The model ends with a single unit and no activation (it will be a linear layer). This is a typical setup for scalar regression (a regression where you’re trying to predict a single continuous value).\n",
        "\n",
        "Note that we compile the model with the mse loss function—mean squared error, the square of the difference between the predictions and the targets. This is a widely used loss function for regression problems.\n",
        "\n",
        "It’s the absolute value of the difference between the predictions and the targets. For instance, an MAE of 0.5 on this problem would mean your predictions are off by $500 on average.\n",
        "\n"
      ],
      "metadata": {
        "id": "EvsGI4v3RNM3"
      }
    },
    {
      "cell_type": "code",
      "source": [
        "from tensorflow import keras \n",
        "from tensorflow.keras import layers\n",
        "\n",
        "\n",
        "def build_model():\n",
        "    model = keras.Sequential([            \n",
        "        layers.Dense(64, activation=\"relu\"),\n",
        "        layers.Dense(64, activation=\"relu\"),\n",
        "        layers.Dense(1)\n",
        "    ])\n",
        "    model.compile(optimizer=\"rmsprop\", loss=\"mse\", metrics=[\"mae\"])\n",
        "    return model"
      ],
      "metadata": {
        "id": "ZjD2iZl8PwWS"
      },
      "execution_count": 9,
      "outputs": []
    },
    {
      "cell_type": "markdown",
      "source": [
        "To evaluate our model while we keep adjusting its parameters (such as the number of epochs used for training), we could split the data into a training set and a validation set, as we did in the previous examples. But because we have so few data points, the validation set would end up being very small (for instance, about 100 examples). As a consequence, the validation scores might change a lot depending on which data points we chose for validation and which we chose for training: the validation scores might have a high variance with regard to the validation split. This would prevent us from reliably evaluating our model.\n",
        "\n",
        "\n",
        "The best practice in such situations is to use K-fold cross-validation\n",
        "\n",
        "It consists of splitting the available data into K partitions (typically K = 4 or 5), instantiating K identical models, and training each one on K – 1 partitions while evaluating on the remaining partition. The validation score for the model used is then the average of the K validation scores obtained. In terms of code, this is straightforward."
      ],
      "metadata": {
        "id": "w3Wunl3IRyna"
      }
    },
    {
      "cell_type": "markdown",
      "source": [
        "![image.png](data:image/png;base64,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)"
      ],
      "metadata": {
        "id": "FQHJliuQX16t"
      }
    },
    {
      "cell_type": "markdown",
      "source": [
        "## 4.3.3. K-fold validation"
      ],
      "metadata": {
        "id": "Wluk7y8ZabIv"
      }
    },
    {
      "cell_type": "code",
      "source": [
        "import numpy as np\n",
        "\n",
        "k = 4 \n",
        "num_val_samples = len(train_data) // k\n",
        "num_epochs = 100 \n",
        "all_scores = [] \n",
        "for i in range(k):\n",
        "    print(f\"Processing fold #{i}\")\n",
        "    val_data = train_data[i * num_val_samples: (i + 1) * num_val_samples]  # 1\n",
        "    val_targets = train_targets[i * num_val_samples: (i + 1) * num_val_samples]\n",
        "    partial_train_data = np.concatenate(              # 2                       \n",
        "        [train_data[:i * num_val_samples],\n",
        "         train_data[(i + 1) * num_val_samples:]],\n",
        "        axis=0)\n",
        "    partial_train_targets = np.concatenate(\n",
        "        [train_targets[:i * num_val_samples],\n",
        "         train_targets[(i + 1) * num_val_samples:]],\n",
        "        axis=0)\n",
        "    model = build_model()                                     # 3              \n",
        "    model.fit(partial_train_data, partial_train_targets,      # 4              \n",
        "              epochs=num_epochs, batch_size=16, verbose=0)\n",
        "    val_mse, val_mae = model.evaluate(val_data, val_targets, verbose=0)    # 5 \n",
        "    all_scores.append(val_mae)"
      ],
      "metadata": {
        "colab": {
          "base_uri": "https://localhost:8080/"
        },
        "id": "URYCgtzsQ59z",
        "outputId": "00a0a3b8-8d68-480f-f366-8d97a3f58dd9"
      },
      "execution_count": 13,
      "outputs": [
        {
          "output_type": "stream",
          "name": "stdout",
          "text": [
            "Processing fold #0\n",
            "Processing fold #1\n",
            "Processing fold #2\n",
            "Processing fold #3\n"
          ]
        }
      ]
    },
    {
      "cell_type": "code",
      "source": [
        "all_scores"
      ],
      "metadata": {
        "colab": {
          "base_uri": "https://localhost:8080/"
        },
        "id": "j_rmyg5tai-5",
        "outputId": "78a12c13-4fb1-40a7-cd75-6154552d3d30"
      },
      "execution_count": 14,
      "outputs": [
        {
          "output_type": "execute_result",
          "data": {
            "text/plain": [
              "[2.060727834701538, 2.6038014888763428, 2.4991824626922607, 2.362049102783203]"
            ]
          },
          "metadata": {},
          "execution_count": 14
        }
      ]
    },
    {
      "cell_type": "code",
      "source": [
        "np.mean(all_scores)"
      ],
      "metadata": {
        "colab": {
          "base_uri": "https://localhost:8080/"
        },
        "id": "g8UzI_TWa5dH",
        "outputId": "0a66c0b3-da73-46af-ddb3-55d05561d2b2"
      },
      "execution_count": 15,
      "outputs": [
        {
          "output_type": "execute_result",
          "data": {
            "text/plain": [
              "2.381440222263336"
            ]
          },
          "metadata": {},
          "execution_count": 15
        }
      ]
    },
    {
      "cell_type": "markdown",
      "source": [
        "The different runs do indeed show rather different validation scores, from 2.1 to 3.1. The average (2.6) is a much more reliable metric than any single score—that’s the entire point of K-fold cross-validation. In this case, we’re off by $2,600 on average, which is significant considering that the prices range from 10,000 to 50,000."
      ],
      "metadata": {
        "id": "kz016K3fbDy8"
      }
    },
    {
      "cell_type": "markdown",
      "source": [
        "Let’s try training the model a bit longer: 500 epochs. To keep a record of how well the model does at each epoch, we’ll modify the training loop to save the per-epoch validation score log for each fold."
      ],
      "metadata": {
        "id": "2aQcxFJEbLuR"
      }
    },
    {
      "cell_type": "code",
      "source": [
        "num_epochs = 500 \n",
        "all_mae_histories = [] \n",
        "for i in range(k):\n",
        "    print(f\"Processing fold #{i}\")\n",
        "    val_data = train_data[i * num_val_samples: (i + 1) * num_val_samples]   \n",
        "    val_targets = train_targets[i * num_val_samples: (i + 1) * num_val_samples]\n",
        "    partial_train_data = np.concatenate(                                    \n",
        "        [train_data[:i * num_val_samples],\n",
        "         train_data[(i + 1) * num_val_samples:]],\n",
        "        axis=0)\n",
        "    partial_train_targets = np.concatenate(\n",
        "        [train_targets[:i * num_val_samples],\n",
        "         train_targets[(i + 1) * num_val_samples:]],\n",
        "        axis=0)\n",
        "    model = build_model()                                                   \n",
        "    history = model.fit(partial_train_data, partial_train_targets,          \n",
        "                        validation_data=(val_data, val_targets),\n",
        "                        epochs=num_epochs, batch_size=16, verbose=0)\n",
        "    mae_history = history.history[\"val_mae\"]\n",
        "    all_mae_histories.append(mae_history)"
      ],
      "metadata": {
        "colab": {
          "base_uri": "https://localhost:8080/"
        },
        "id": "24LQ0X-1a7Im",
        "outputId": "076d05e4-bc87-4117-f813-b573343260d3"
      },
      "execution_count": 17,
      "outputs": [
        {
          "output_type": "stream",
          "name": "stdout",
          "text": [
            "Processing fold #0\n",
            "Processing fold #1\n",
            "Processing fold #2\n",
            "Processing fold #3\n"
          ]
        }
      ]
    },
    {
      "cell_type": "code",
      "source": [
        "average_mae_history = [\n",
        "    np.mean([x[i] for x in all_mae_histories]) for i in range(num_epochs)]"
      ],
      "metadata": {
        "id": "M-qxx_EZbOsg"
      },
      "execution_count": 18,
      "outputs": []
    },
    {
      "cell_type": "code",
      "source": [
        "import matplotlib.pyplot as plt\n",
        "\n",
        "plt.plot(range(1, len(average_mae_history) + 1), average_mae_history)\n",
        "plt.xlabel(\"Epochs\")\n",
        "plt.ylabel(\"Validation MAE\")\n",
        "plt.show()"
      ],
      "metadata": {
        "colab": {
          "base_uri": "https://localhost:8080/",
          "height": 279
        },
        "id": "umJUW-kUbzyA",
        "outputId": "9b1d0259-4add-4493-8d2c-0779f0bf50d0"
      },
      "execution_count": 19,
      "outputs": [
        {
          "output_type": "display_data",
          "data": {
            "image/png": "[encoded data removed]",
            "text/plain": [
              "<Figure size 432x288 with 1 Axes>"
            ]
          },
          "metadata": {
            "needs_background": "light"
          }
        }
      ]
    },
    {
      "cell_type": "code",
      "source": [
        "truncated_mae_history = average_mae_history[10:]\n",
        "plt.plot(range(1, len(truncated_mae_history) + 1), truncated_mae_history)\n",
        "plt.xlabel(\"Epochs\")\n",
        "plt.ylabel(\"Validation MAE\")\n",
        "plt.show()"
      ],
      "metadata": {
        "colab": {
          "base_uri": "https://localhost:8080/",
          "height": 279
        },
        "id": "jaMnE-zxb4F0",
        "outputId": "873b49c1-027b-4f1e-9e82-819e29a452d9"
      },
      "execution_count": 20,
      "outputs": [
        {
          "output_type": "display_data",
          "data": {
            "image/png": "[encoded data removed]",
            "text/plain": [
              "<Figure size 432x288 with 1 Axes>"
            ]
          },
          "metadata": {
            "needs_background": "light"
          }
        }
      ]
    },
    {
      "cell_type": "markdown",
      "source": [
        "As you can see in figure 4.10, validation MAE stops improving significantly after 120–140 epochs (this number includes the 10 epochs we omitted). Past that point, we start overfitting."
      ],
      "metadata": {
        "id": "EbVaF-LBcPoP"
      }
    },
    {
      "cell_type": "code",
      "source": [
        "model = build_model()                                \n",
        "model.fit(train_data, train_targets,                 \n",
        "          epochs=130, batch_size=16, verbose=0)\n",
        "test_mse_score, test_mae_score = model.evaluate(test_data, test_targets)"
      ],
      "metadata": {
        "colab": {
          "base_uri": "https://localhost:8080/"
        },
        "id": "yx0BegHBcH4U",
        "outputId": "b47b1944-c3d0-42f0-824a-b21dda07cebe"
      },
      "execution_count": 21,
      "outputs": [
        {
          "output_type": "stream",
          "name": "stdout",
          "text": [
            "4/4 [==============================] - 0s 4ms/step - loss: 18.2332 - mae: 2.8573\n"
          ]
        }
      ]
    },
    {
      "cell_type": "code",
      "source": [
        "test_mae_score"
      ],
      "metadata": {
        "colab": {
          "base_uri": "https://localhost:8080/"
        },
        "id": "Bmm8gsRbcszo",
        "outputId": "8acb52c3-9fa2-4bb0-edb7-e170dac1bd22"
      },
      "execution_count": 22,
      "outputs": [
        {
          "output_type": "execute_result",
          "data": {
            "text/plain": [
              "2.8573296070098877"
            ]
          },
          "metadata": {},
          "execution_count": 22
        }
      ]
    },
    {
      "cell_type": "markdown",
      "source": [
        "## 4.3.4. Generating predictions on new data"
      ],
      "metadata": {
        "id": "31t4wSy4dY72"
      }
    },
    {
      "cell_type": "code",
      "source": [
        "predictions = model.predict(test_data)"
      ],
      "metadata": {
        "id": "3WR-aN8_dR1v"
      },
      "execution_count": 23,
      "outputs": []
    },
    {
      "cell_type": "code",
      "source": [
        "predictions[0]"
      ],
      "metadata": {
        "colab": {
          "base_uri": "https://localhost:8080/"
        },
        "id": "lpDCEGW3ddq2",
        "outputId": "f770b9bc-39a5-4688-b289-b44b80ded926"
      },
      "execution_count": 24,
      "outputs": [
        {
          "output_type": "execute_result",
          "data": {
            "text/plain": [
              "array([9.95211], dtype=float32)"
            ]
          },
          "metadata": {},
          "execution_count": 24
        }
      ]
    },
    {
      "cell_type": "markdown",
      "source": [
        "When little training data is available, it’s preferable to use a small model with few intermediate layers (typically only one or two), in order to avoid severe overfitting.\n",
        "\n"
      ],
      "metadata": {
        "id": "mTQmSYkBduye"
      }
    },
    {
      "cell_type": "code",
      "source": [
        ""
      ],
      "metadata": {
        "id": "-z5qhPW4de3L"
      },
      "execution_count": null,
      "outputs": []
    }
  ]
}