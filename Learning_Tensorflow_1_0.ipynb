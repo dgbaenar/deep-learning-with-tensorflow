{
  "nbformat": 4,
  "nbformat_minor": 0,
  "metadata": {
    "colab": {
      "name": "Learning Tensorflow 1.0.ipynb",
      "provenance": [],
      "toc_visible": true,
      "collapsed_sections": [],
      "authorship_tag": "ABX9TyP79FzLDLKLOe4Nd3KyDOfo",
      "include_colab_link": true
    },
    "kernelspec": {
      "name": "python3",
      "display_name": "Python 3"
    },
    "language_info": {
      "name": "python"
    }
  },
  "cells": [
    {
      "cell_type": "markdown",
      "metadata": {
        "id": "view-in-github",
        "colab_type": "text"
      },
      "source": [
        "<a href=\"https://colab.research.google.com/github/dgbaenar/deep-learning-with-tensorflow/blob/main/Learning_Tensorflow_1_0.ipynb\" target=\"_parent\"><img src=\"https://colab.research.google.com/assets/colab-badge.svg\" alt=\"Open In Colab\"/></a>"
      ]
    },
    {
      "cell_type": "markdown",
      "source": [
        "# 1. Capítulo 1"
      ],
      "metadata": {
        "id": "-fsMcNUol7f9"
      }
    },
    {
      "cell_type": "code",
      "source": [
        "import tensorflow as tf"
      ],
      "metadata": {
        "id": "4m97dOQpl7z6"
      },
      "execution_count": null,
      "outputs": []
    },
    {
      "cell_type": "code",
      "source": [
        "x = tf.Variable(0.)"
      ],
      "metadata": {
        "id": "MWetWW6X326K"
      },
      "execution_count": null,
      "outputs": []
    },
    {
      "cell_type": "code",
      "source": [
        "x"
      ],
      "metadata": {
        "colab": {
          "base_uri": "https://localhost:8080/"
        },
        "id": "HqR6N7dsLG_q",
        "outputId": "7c4fb2cf-e1f4-4505-970d-75ea75ec2048"
      },
      "execution_count": null,
      "outputs": [
        {
          "output_type": "execute_result",
          "data": {
            "text/plain": [
              "<tf.Variable 'Variable:0' shape=() dtype=float32, numpy=0.0>"
            ]
          },
          "metadata": {},
          "execution_count": 4
        }
      ]
    },
    {
      "cell_type": "code",
      "source": [
        "with tf.GradientTape() as tape:\n",
        "  y = 2 * x + 3"
      ],
      "metadata": {
        "id": "d0rHt0RqLHXp"
      },
      "execution_count": null,
      "outputs": []
    },
    {
      "cell_type": "code",
      "source": [
        "grad_of_y_wrt_x = tape.gradient(y, x)"
      ],
      "metadata": {
        "id": "DI1RT_fILkZB"
      },
      "execution_count": null,
      "outputs": []
    },
    {
      "cell_type": "code",
      "source": [
        "grad_of_y_wrt_x"
      ],
      "metadata": {
        "colab": {
          "base_uri": "https://localhost:8080/"
        },
        "id": "t7_wTphdLm2P",
        "outputId": "8bfd94e0-7fe5-4eac-fa66-2f26a69ddca8"
      },
      "execution_count": null,
      "outputs": [
        {
          "output_type": "execute_result",
          "data": {
            "text/plain": [
              "<tf.Tensor: shape=(), dtype=float32, numpy=2.0>"
            ]
          },
          "metadata": {},
          "execution_count": 7
        }
      ]
    },
    {
      "cell_type": "code",
      "source": [
        "x = tf.Variable(tf.random.uniform((2, 2)))"
      ],
      "metadata": {
        "id": "9dfAOhLGLnqY"
      },
      "execution_count": null,
      "outputs": []
    },
    {
      "cell_type": "code",
      "source": [
        "with tf.GradientTape() as tape:\n",
        "  y = 2 * x + 3"
      ],
      "metadata": {
        "id": "NGXas9hoNu5K"
      },
      "execution_count": null,
      "outputs": []
    },
    {
      "cell_type": "code",
      "source": [
        "x"
      ],
      "metadata": {
        "colab": {
          "base_uri": "https://localhost:8080/"
        },
        "id": "VN5Sx7Z5N5Ps",
        "outputId": "bd97cb4e-20c9-45d5-f137-95820e023270"
      },
      "execution_count": null,
      "outputs": [
        {
          "output_type": "execute_result",
          "data": {
            "text/plain": [
              "<tf.Variable 'Variable:0' shape=(2, 2) dtype=float32, numpy=\n",
              "array([[0.13525951, 0.2729926 ],\n",
              "       [0.2982719 , 0.6956613 ]], dtype=float32)>"
            ]
          },
          "metadata": {},
          "execution_count": 11
        }
      ]
    },
    {
      "cell_type": "code",
      "source": [
        "2 * x"
      ],
      "metadata": {
        "id": "3PcpF_i3N7xa",
        "outputId": "c19285b7-ae5c-4f74-e601-903e9c66f177",
        "colab": {
          "base_uri": "https://localhost:8080/"
        }
      },
      "execution_count": null,
      "outputs": [
        {
          "output_type": "execute_result",
          "data": {
            "text/plain": [
              "<tf.Tensor: shape=(2, 2), dtype=float32, numpy=\n",
              "array([[0.27051902, 0.5459852 ],\n",
              "       [0.5965438 , 1.3913226 ]], dtype=float32)>"
            ]
          },
          "metadata": {},
          "execution_count": 12
        }
      ]
    },
    {
      "cell_type": "code",
      "source": [
        "y"
      ],
      "metadata": {
        "colab": {
          "base_uri": "https://localhost:8080/"
        },
        "id": "YfB2FQ_5NxaC",
        "outputId": "b82869bb-36d7-4431-8aac-d37540c008f8"
      },
      "execution_count": null,
      "outputs": [
        {
          "output_type": "execute_result",
          "data": {
            "text/plain": [
              "<tf.Tensor: shape=(2, 2), dtype=float32, numpy=\n",
              "array([[3.270519 , 3.5459852],\n",
              "       [3.5965438, 4.3913226]], dtype=float32)>"
            ]
          },
          "metadata": {},
          "execution_count": 10
        }
      ]
    },
    {
      "cell_type": "code",
      "source": [
        "grad_of_y_wrt_x = tape.gradient(y, x)"
      ],
      "metadata": {
        "id": "FDXT-xj7Nx74"
      },
      "execution_count": null,
      "outputs": []
    },
    {
      "cell_type": "code",
      "source": [
        "grad_of_y_wrt_x"
      ],
      "metadata": {
        "id": "wUzbMnYvOAWr",
        "outputId": "49494b37-c5ba-4366-f1b5-d429d3f92b55",
        "colab": {
          "base_uri": "https://localhost:8080/"
        }
      },
      "execution_count": null,
      "outputs": [
        {
          "output_type": "execute_result",
          "data": {
            "text/plain": [
              "<tf.Tensor: shape=(2, 2), dtype=float32, numpy=\n",
              "array([[2., 2.],\n",
              "       [2., 2.]], dtype=float32)>"
            ]
          },
          "metadata": {},
          "execution_count": 14
        }
      ]
    },
    {
      "cell_type": "markdown",
      "source": [
        "# 2. Capítulo 2"
      ],
      "metadata": {
        "id": "RwNw17SHkfDI"
      }
    },
    {
      "cell_type": "code",
      "source": [
        "input_var = tf.Variable(initial_value=3.) \n",
        "with tf.GradientTape() as tape:\n",
        "  result = tf.square(input_var)\n",
        "  \n",
        "gradient = tape.gradient(result, input_var)"
      ],
      "metadata": {
        "id": "ZPPUTiuGkkB-"
      },
      "execution_count": null,
      "outputs": []
    },
    {
      "cell_type": "code",
      "source": [
        "gradient"
      ],
      "metadata": {
        "id": "M_VBHm-nkrE5",
        "outputId": "af278500-a997-452e-aeca-057acf439b7a",
        "colab": {
          "base_uri": "https://localhost:8080/"
        }
      },
      "execution_count": null,
      "outputs": [
        {
          "output_type": "execute_result",
          "data": {
            "text/plain": [
              "<tf.Tensor: shape=(), dtype=float32, numpy=6.0>"
            ]
          },
          "metadata": {},
          "execution_count": 3
        }
      ]
    },
    {
      "cell_type": "markdown",
      "source": [
        "## 2.1 A linear classifier in pure TensorFlow"
      ],
      "metadata": {
        "id": "W6HL1yvlLzdf"
      }
    },
    {
      "cell_type": "markdown",
      "source": [
        "Intuitively, the covariance matrix describes the shape of the point cloud, and the mean describes its position in the plane (see figure 3.6). We’ll reuse the same covariance matrix for both point clouds, but we’ll use two different mean values—the point clouds will have the same shape, but different positions."
      ],
      "metadata": {
        "id": "53QVXX9jYYri"
      }
    },
    {
      "cell_type": "code",
      "source": [
        "import numpy as np\n",
        "import tensorflow as tf"
      ],
      "metadata": {
        "id": "rlBShXkGMqs-"
      },
      "execution_count": null,
      "outputs": []
    },
    {
      "cell_type": "code",
      "source": [
        "num_samples_per_class = 1000 \n",
        "negative_samples = np.random.multivariate_normal(   \n",
        "    mean=[0, 3],                                    \n",
        "    cov=[[1, 0.5],[0.5, 1]],                        \n",
        "    size=num_samples_per_class)\n",
        "                    \n",
        "positive_samples = np.random.multivariate_normal(   \n",
        "    mean=[3, 0],                                    \n",
        "    cov=[[1, 0.5],[0.5, 1]],                        \n",
        "    size=num_samples_per_class)    "
      ],
      "metadata": {
        "id": "QmsozCreL2P8"
      },
      "execution_count": null,
      "outputs": []
    },
    {
      "cell_type": "code",
      "source": [
        "negative_samples"
      ],
      "metadata": {
        "id": "apCILew7ZBwy",
        "outputId": "5b9087ed-5279-497f-fe9b-e0d391d8a553",
        "colab": {
          "base_uri": "https://localhost:8080/"
        }
      },
      "execution_count": null,
      "outputs": [
        {
          "output_type": "execute_result",
          "data": {
            "text/plain": [
              "array([[ 0.88546136,  5.58415853],\n",
              "       [-0.63661736,  3.12826354],\n",
              "       [ 2.5454125 ,  5.33162237],\n",
              "       ...,\n",
              "       [-0.97078362,  1.85520373],\n",
              "       [-0.14066367,  3.85009665],\n",
              "       [ 2.58649621,  3.39853112]])"
            ]
          },
          "metadata": {},
          "execution_count": 3
        }
      ]
    },
    {
      "cell_type": "code",
      "source": [
        "inputs = np.vstack((negative_samples, positive_samples)).astype(np.float32)"
      ],
      "metadata": {
        "id": "lfma9AVoMpek"
      },
      "execution_count": null,
      "outputs": []
    },
    {
      "cell_type": "code",
      "source": [
        "targets = np.vstack((np.zeros((num_samples_per_class, 1), dtype=\"float32\"),\n",
        "                     np.ones((num_samples_per_class, 1), dtype=\"float32\")))"
      ],
      "metadata": {
        "id": "dT2PNkEMXjf-"
      },
      "execution_count": null,
      "outputs": []
    },
    {
      "cell_type": "code",
      "source": [
        "import matplotlib.pyplot as plt\n",
        "plt.scatter(inputs[:, 0], inputs[:, 1], c=targets[:, 0])\n",
        "plt.show()"
      ],
      "metadata": {
        "colab": {
          "base_uri": "https://localhost:8080/",
          "height": 265
        },
        "id": "YfWD-HHWX7I9",
        "outputId": "4627db13-8707-4efd-873f-e16c9e2ea6f5"
      },
      "execution_count": null,
      "outputs": [
        {
          "output_type": "display_data",
          "data": {
            "image/png": "[encoded data removed]",
            "text/plain": [
              "<Figure size 432x288 with 1 Axes>"
            ]
          },
          "metadata": {
            "needs_background": "light"
          }
        }
      ]
    },
    {
      "cell_type": "markdown",
      "source": [
        "## 2.2. Creating the linear classifier"
      ],
      "metadata": {
        "id": "OmfXIAW-bOAW"
      }
    },
    {
      "cell_type": "code",
      "source": [
        "input_dim = 2     \n",
        "output_dim = 1    \n",
        "W = tf.Variable(initial_value=tf.random.uniform(shape=(input_dim, output_dim)))\n",
        "b = tf.Variable(initial_value=tf.zeros(shape=(output_dim,)))"
      ],
      "metadata": {
        "id": "T_8IRPiVbNZ4"
      },
      "execution_count": null,
      "outputs": []
    },
    {
      "cell_type": "markdown",
      "source": [
        "### 2.2.1 The forward pass function"
      ],
      "metadata": {
        "id": "fIQCwllXbxkS"
      }
    },
    {
      "cell_type": "code",
      "source": [
        "def model(inputs):\n",
        "    return tf.matmul(inputs, W) + b"
      ],
      "metadata": {
        "id": "PN2JHrHEYdf5"
      },
      "execution_count": null,
      "outputs": []
    },
    {
      "cell_type": "code",
      "source": [
        "def square_loss(targets, predictions):\n",
        "    per_sample_losses = tf.square(targets - predictions)\n",
        "    return tf.reduce_mean(per_sample_losses)"
      ],
      "metadata": {
        "id": "EVAbgV1Fb2W8"
      },
      "execution_count": null,
      "outputs": []
    },
    {
      "cell_type": "markdown",
      "source": [
        "## 2.3 Backpropagation"
      ],
      "metadata": {
        "id": "P2qjgB2Z-wd1"
      }
    },
    {
      "cell_type": "code",
      "source": [
        "learning_rate = 0.1 \n",
        "  \n",
        "def training_step(inputs, targets):\n",
        "    with tf.GradientTape() as tape:                                  \n",
        "        predictions = model(inputs)                                  \n",
        "        loss = square_loss(predictions, targets)                    \n",
        "    grad_loss_wrt_W, grad_loss_wrt_b = tape.gradient(loss, [W, b])   \n",
        "    W.assign_sub(grad_loss_wrt_W * learning_rate)                    \n",
        "    b.assign_sub(grad_loss_wrt_b * learning_rate)\n",
        "    return loss"
      ],
      "metadata": {
        "id": "F8XW6cDbcRbL"
      },
      "execution_count": null,
      "outputs": []
    },
    {
      "cell_type": "code",
      "source": [
        "for step in range(40):\n",
        "    loss = training_step(inputs, targets)\n",
        "    print(f\"Loss at step {step}: {loss:.4f}\")"
      ],
      "metadata": {
        "colab": {
          "base_uri": "https://localhost:8080/"
        },
        "id": "vZPu0BxcBZag",
        "outputId": "90043179-0247-4020-8151-669fc4063c90"
      },
      "execution_count": null,
      "outputs": [
        {
          "output_type": "stream",
          "name": "stdout",
          "text": [
            "Loss at step 0: 2.7124\n",
            "Loss at step 1: 0.3492\n",
            "Loss at step 2: 0.1444\n",
            "Loss at step 3: 0.1139\n",
            "Loss at step 4: 0.1037\n",
            "Loss at step 5: 0.0965\n",
            "Loss at step 6: 0.0901\n",
            "Loss at step 7: 0.0843\n",
            "Loss at step 8: 0.0790\n",
            "Loss at step 9: 0.0741\n",
            "Loss at step 10: 0.0698\n",
            "Loss at step 11: 0.0658\n",
            "Loss at step 12: 0.0621\n",
            "Loss at step 13: 0.0588\n",
            "Loss at step 14: 0.0558\n",
            "Loss at step 15: 0.0530\n",
            "Loss at step 16: 0.0505\n",
            "Loss at step 17: 0.0482\n",
            "Loss at step 18: 0.0461\n",
            "Loss at step 19: 0.0442\n",
            "Loss at step 20: 0.0425\n",
            "Loss at step 21: 0.0409\n",
            "Loss at step 22: 0.0394\n",
            "Loss at step 23: 0.0381\n",
            "Loss at step 24: 0.0369\n",
            "Loss at step 25: 0.0359\n",
            "Loss at step 26: 0.0349\n",
            "Loss at step 27: 0.0340\n",
            "Loss at step 28: 0.0331\n",
            "Loss at step 29: 0.0324\n",
            "Loss at step 30: 0.0317\n",
            "Loss at step 31: 0.0311\n",
            "Loss at step 32: 0.0305\n",
            "Loss at step 33: 0.0300\n",
            "Loss at step 34: 0.0295\n",
            "Loss at step 35: 0.0291\n",
            "Loss at step 36: 0.0287\n",
            "Loss at step 37: 0.0283\n",
            "Loss at step 38: 0.0280\n",
            "Loss at step 39: 0.0277\n"
          ]
        }
      ]
    },
    {
      "cell_type": "code",
      "source": [
        "predictions = model(inputs)\n",
        "plt.scatter(inputs[:, 0], inputs[:, 1], c=predictions[:, 0] > 0.5)\n",
        "plt.show()"
      ],
      "metadata": {
        "colab": {
          "base_uri": "https://localhost:8080/",
          "height": 265
        },
        "id": "j5GoHXX5CwMy",
        "outputId": "31d245a3-d86b-4a98-dd9e-04010be7bbde"
      },
      "execution_count": null,
      "outputs": [
        {
          "output_type": "display_data",
          "data": {
            "image/png": "[encoded data removed]",
            "text/plain": [
              "<Figure size 432x288 with 1 Axes>"
            ]
          },
          "metadata": {
            "needs_background": "light"
          }
        }
      ]
    },
    {
      "cell_type": "code",
      "source": [
        ""
      ],
      "metadata": {
        "id": "kmB0VPwaDDql"
      },
      "execution_count": null,
      "outputs": []
    }
  ]
}